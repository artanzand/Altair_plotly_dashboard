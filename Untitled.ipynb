{
 "cells": [
  {
   "cell_type": "code",
   "execution_count": 1,
   "id": "057d7b3e-5ef7-424c-a3cc-6901ad80d964",
   "metadata": {},
   "outputs": [],
   "source": [
    "import pandas as pd"
   ]
  },
  {
   "cell_type": "code",
   "execution_count": 2,
   "id": "9d900266-19ee-44eb-ba84-4aeabb18f4c3",
   "metadata": {},
   "outputs": [],
   "source": [
    "import altair as alt"
   ]
  },
  {
   "cell_type": "code",
   "execution_count": 3,
   "id": "3bc08f1a-305c-4c65-bda0-825ab85486a3",
   "metadata": {},
   "outputs": [
    {
     "data": {
      "text/html": [
       "<div>\n",
       "<style scoped>\n",
       "    .dataframe tbody tr th:only-of-type {\n",
       "        vertical-align: middle;\n",
       "    }\n",
       "\n",
       "    .dataframe tbody tr th {\n",
       "        vertical-align: top;\n",
       "    }\n",
       "\n",
       "    .dataframe thead th {\n",
       "        text-align: right;\n",
       "    }\n",
       "</style>\n",
       "<table border=\"1\" class=\"dataframe\">\n",
       "  <thead>\n",
       "    <tr style=\"text-align: right;\">\n",
       "      <th></th>\n",
       "      <th>work_year</th>\n",
       "      <th>experience_level</th>\n",
       "      <th>employment_type</th>\n",
       "      <th>job_title</th>\n",
       "      <th>salary</th>\n",
       "      <th>salary_currency</th>\n",
       "      <th>salary_in_usd</th>\n",
       "      <th>employee_residence</th>\n",
       "      <th>remote_ratio</th>\n",
       "      <th>company_location</th>\n",
       "      <th>company_size</th>\n",
       "    </tr>\n",
       "  </thead>\n",
       "  <tbody>\n",
       "    <tr>\n",
       "      <th>0</th>\n",
       "      <td>2021e</td>\n",
       "      <td>EN</td>\n",
       "      <td>FT</td>\n",
       "      <td>Data Science Consultant</td>\n",
       "      <td>54000</td>\n",
       "      <td>EUR</td>\n",
       "      <td>64369</td>\n",
       "      <td>DE</td>\n",
       "      <td>50</td>\n",
       "      <td>DE</td>\n",
       "      <td>L</td>\n",
       "    </tr>\n",
       "    <tr>\n",
       "      <th>1</th>\n",
       "      <td>2020</td>\n",
       "      <td>SE</td>\n",
       "      <td>FT</td>\n",
       "      <td>Data Scientist</td>\n",
       "      <td>60000</td>\n",
       "      <td>EUR</td>\n",
       "      <td>68428</td>\n",
       "      <td>GR</td>\n",
       "      <td>100</td>\n",
       "      <td>US</td>\n",
       "      <td>L</td>\n",
       "    </tr>\n",
       "    <tr>\n",
       "      <th>2</th>\n",
       "      <td>2021e</td>\n",
       "      <td>EX</td>\n",
       "      <td>FT</td>\n",
       "      <td>Head of Data Science</td>\n",
       "      <td>85000</td>\n",
       "      <td>USD</td>\n",
       "      <td>85000</td>\n",
       "      <td>RU</td>\n",
       "      <td>0</td>\n",
       "      <td>RU</td>\n",
       "      <td>M</td>\n",
       "    </tr>\n",
       "    <tr>\n",
       "      <th>3</th>\n",
       "      <td>2021e</td>\n",
       "      <td>EX</td>\n",
       "      <td>FT</td>\n",
       "      <td>Head of Data</td>\n",
       "      <td>230000</td>\n",
       "      <td>USD</td>\n",
       "      <td>230000</td>\n",
       "      <td>RU</td>\n",
       "      <td>50</td>\n",
       "      <td>RU</td>\n",
       "      <td>L</td>\n",
       "    </tr>\n",
       "    <tr>\n",
       "      <th>4</th>\n",
       "      <td>2021e</td>\n",
       "      <td>EN</td>\n",
       "      <td>FT</td>\n",
       "      <td>Machine Learning Engineer</td>\n",
       "      <td>125000</td>\n",
       "      <td>USD</td>\n",
       "      <td>125000</td>\n",
       "      <td>US</td>\n",
       "      <td>100</td>\n",
       "      <td>US</td>\n",
       "      <td>S</td>\n",
       "    </tr>\n",
       "  </tbody>\n",
       "</table>\n",
       "</div>"
      ],
      "text/plain": [
       "  work_year experience_level employment_type                  job_title  \\\n",
       "0     2021e               EN              FT    Data Science Consultant   \n",
       "1      2020               SE              FT             Data Scientist   \n",
       "2     2021e               EX              FT       Head of Data Science   \n",
       "3     2021e               EX              FT               Head of Data   \n",
       "4     2021e               EN              FT  Machine Learning Engineer   \n",
       "\n",
       "   salary salary_currency  salary_in_usd employee_residence  remote_ratio  \\\n",
       "0   54000             EUR          64369                 DE            50   \n",
       "1   60000             EUR          68428                 GR           100   \n",
       "2   85000             USD          85000                 RU             0   \n",
       "3  230000             USD         230000                 RU            50   \n",
       "4  125000             USD         125000                 US           100   \n",
       "\n",
       "  company_location company_size  \n",
       "0               DE            L  \n",
       "1               US            L  \n",
       "2               RU            M  \n",
       "3               RU            L  \n",
       "4               US            S  "
      ]
     },
     "execution_count": 3,
     "metadata": {},
     "output_type": "execute_result"
    }
   ],
   "source": [
    "df = pd.read_csv(\"Data Science Jobs Salaries.csv\")\n",
    "df.head()"
   ]
  },
  {
   "cell_type": "code",
   "execution_count": 4,
   "id": "e77743df-ca51-4ec6-a4ff-3acefa9b7c5e",
   "metadata": {},
   "outputs": [
    {
     "data": {
      "text/plain": [
       "(245, 11)"
      ]
     },
     "execution_count": 4,
     "metadata": {},
     "output_type": "execute_result"
    }
   ],
   "source": [
    "df.shape"
   ]
  },
  {
   "cell_type": "code",
   "execution_count": 5,
   "id": "f28cae05-56f2-483b-8bd7-d95dd9c287c2",
   "metadata": {},
   "outputs": [
    {
     "data": {
      "text/html": [
       "<div>\n",
       "<style scoped>\n",
       "    .dataframe tbody tr th:only-of-type {\n",
       "        vertical-align: middle;\n",
       "    }\n",
       "\n",
       "    .dataframe tbody tr th {\n",
       "        vertical-align: top;\n",
       "    }\n",
       "\n",
       "    .dataframe thead th {\n",
       "        text-align: right;\n",
       "    }\n",
       "</style>\n",
       "<table border=\"1\" class=\"dataframe\">\n",
       "  <thead>\n",
       "    <tr style=\"text-align: right;\">\n",
       "      <th></th>\n",
       "      <th>salary</th>\n",
       "      <th>salary_in_usd</th>\n",
       "      <th>remote_ratio</th>\n",
       "    </tr>\n",
       "  </thead>\n",
       "  <tbody>\n",
       "    <tr>\n",
       "      <th>count</th>\n",
       "      <td>2.450000e+02</td>\n",
       "      <td>245.000000</td>\n",
       "      <td>245.000000</td>\n",
       "    </tr>\n",
       "    <tr>\n",
       "      <th>mean</th>\n",
       "      <td>5.025418e+05</td>\n",
       "      <td>99868.012245</td>\n",
       "      <td>69.183673</td>\n",
       "    </tr>\n",
       "    <tr>\n",
       "      <th>std</th>\n",
       "      <td>2.276230e+06</td>\n",
       "      <td>83983.326949</td>\n",
       "      <td>37.593421</td>\n",
       "    </tr>\n",
       "    <tr>\n",
       "      <th>min</th>\n",
       "      <td>4.000000e+03</td>\n",
       "      <td>2876.000000</td>\n",
       "      <td>0.000000</td>\n",
       "    </tr>\n",
       "    <tr>\n",
       "      <th>25%</th>\n",
       "      <td>6.000000e+04</td>\n",
       "      <td>45896.000000</td>\n",
       "      <td>50.000000</td>\n",
       "    </tr>\n",
       "    <tr>\n",
       "      <th>50%</th>\n",
       "      <td>1.030000e+05</td>\n",
       "      <td>81000.000000</td>\n",
       "      <td>100.000000</td>\n",
       "    </tr>\n",
       "    <tr>\n",
       "      <th>75%</th>\n",
       "      <td>1.740000e+05</td>\n",
       "      <td>130000.000000</td>\n",
       "      <td>100.000000</td>\n",
       "    </tr>\n",
       "    <tr>\n",
       "      <th>max</th>\n",
       "      <td>3.040000e+07</td>\n",
       "      <td>600000.000000</td>\n",
       "      <td>100.000000</td>\n",
       "    </tr>\n",
       "  </tbody>\n",
       "</table>\n",
       "</div>"
      ],
      "text/plain": [
       "             salary  salary_in_usd  remote_ratio\n",
       "count  2.450000e+02     245.000000    245.000000\n",
       "mean   5.025418e+05   99868.012245     69.183673\n",
       "std    2.276230e+06   83983.326949     37.593421\n",
       "min    4.000000e+03    2876.000000      0.000000\n",
       "25%    6.000000e+04   45896.000000     50.000000\n",
       "50%    1.030000e+05   81000.000000    100.000000\n",
       "75%    1.740000e+05  130000.000000    100.000000\n",
       "max    3.040000e+07  600000.000000    100.000000"
      ]
     },
     "execution_count": 5,
     "metadata": {},
     "output_type": "execute_result"
    }
   ],
   "source": [
    "df.describe()"
   ]
  },
  {
   "cell_type": "code",
   "execution_count": 6,
   "id": "e2c88fa3-953b-4bca-bae0-e3e9e7ce3da7",
   "metadata": {},
   "outputs": [
    {
     "name": "stdout",
     "output_type": "stream",
     "text": [
      "<class 'pandas.core.frame.DataFrame'>\n",
      "RangeIndex: 245 entries, 0 to 244\n",
      "Data columns (total 11 columns):\n",
      " #   Column              Non-Null Count  Dtype \n",
      "---  ------              --------------  ----- \n",
      " 0   work_year           245 non-null    object\n",
      " 1   experience_level    245 non-null    object\n",
      " 2   employment_type     245 non-null    object\n",
      " 3   job_title           245 non-null    object\n",
      " 4   salary              245 non-null    int64 \n",
      " 5   salary_currency     245 non-null    object\n",
      " 6   salary_in_usd       245 non-null    int64 \n",
      " 7   employee_residence  245 non-null    object\n",
      " 8   remote_ratio        245 non-null    int64 \n",
      " 9   company_location    245 non-null    object\n",
      " 10  company_size        245 non-null    object\n",
      "dtypes: int64(3), object(8)\n",
      "memory usage: 21.2+ KB\n"
     ]
    }
   ],
   "source": [
    "df.info()"
   ]
  },
  {
   "cell_type": "code",
   "execution_count": 7,
   "id": "8ca89198-90e6-40ef-bfd3-284abe2f8484",
   "metadata": {},
   "outputs": [
    {
     "data": {
      "text/plain": [
       "array([ 50, 100,   0], dtype=int64)"
      ]
     },
     "execution_count": 7,
     "metadata": {},
     "output_type": "execute_result"
    }
   ],
   "source": [
    "df[\"remote_ratio\"].unique()"
   ]
  },
  {
   "cell_type": "code",
   "execution_count": 8,
   "id": "7b5561fe-fbc5-45f1-82f8-936f99a3c19b",
   "metadata": {},
   "outputs": [
    {
     "data": {
      "text/plain": [
       "True"
      ]
     },
     "execution_count": 8,
     "metadata": {},
     "output_type": "execute_result"
    }
   ],
   "source": [
    "a = ['50%', '100%', '0%']\n",
    "isinstance(a, list)"
   ]
  },
  {
   "cell_type": "code",
   "execution_count": 9,
   "id": "e727e93d-10cb-4df2-b7c7-86e317ddfe94",
   "metadata": {},
   "outputs": [
    {
     "data": {
      "text/plain": [
       "array(['50%', '100%', '0%'], dtype=object)"
      ]
     },
     "execution_count": 9,
     "metadata": {},
     "output_type": "execute_result"
    }
   ],
   "source": [
    "df[\"remote_ratio\"] = df[\"remote_ratio\"].apply(lambda x: str(x) + \"%\")"
   ]
  },
  {
   "cell_type": "code",
   "execution_count": 20,
   "id": "0dd64b39-2052-4088-80dd-ba449c3b5257",
   "metadata": {},
   "outputs": [
    {
     "data": {
      "text/html": [
       "\n",
       "<div id=\"altair-viz-40b2fe49a64048a4940ac2a386999821\"></div>\n",
       "<script type=\"text/javascript\">\n",
       "  var VEGA_DEBUG = (typeof VEGA_DEBUG == \"undefined\") ? {} : VEGA_DEBUG;\n",
       "  (function(spec, embedOpt){\n",
       "    let outputDiv = document.currentScript.previousElementSibling;\n",
       "    if (outputDiv.id !== \"altair-viz-40b2fe49a64048a4940ac2a386999821\") {\n",
       "      outputDiv = document.getElementById(\"altair-viz-40b2fe49a64048a4940ac2a386999821\");\n",
       "    }\n",
       "    const paths = {\n",
       "      \"vega\": \"https://cdn.jsdelivr.net/npm//vega@5?noext\",\n",
       "      \"vega-lib\": \"https://cdn.jsdelivr.net/npm//vega-lib?noext\",\n",
       "      \"vega-lite\": \"https://cdn.jsdelivr.net/npm//vega-lite@4.17.0?noext\",\n",
       "      \"vega-embed\": \"https://cdn.jsdelivr.net/npm//vega-embed@6?noext\",\n",
       "    };\n",
       "\n",
       "    function maybeLoadScript(lib, version) {\n",
       "      var key = `${lib.replace(\"-\", \"\")}_version`;\n",
       "      return (VEGA_DEBUG[key] == version) ?\n",
       "        Promise.resolve(paths[lib]) :\n",
       "        new Promise(function(resolve, reject) {\n",
       "          var s = document.createElement('script');\n",
       "          document.getElementsByTagName(\"head\")[0].appendChild(s);\n",
       "          s.async = true;\n",
       "          s.onload = () => {\n",
       "            VEGA_DEBUG[key] = version;\n",
       "            return resolve(paths[lib]);\n",
       "          };\n",
       "          s.onerror = () => reject(`Error loading script: ${paths[lib]}`);\n",
       "          s.src = paths[lib];\n",
       "        });\n",
       "    }\n",
       "\n",
       "    function showError(err) {\n",
       "      outputDiv.innerHTML = `<div class=\"error\" style=\"color:red;\">${err}</div>`;\n",
       "      throw err;\n",
       "    }\n",
       "\n",
       "    function displayChart(vegaEmbed) {\n",
       "      vegaEmbed(outputDiv, spec, embedOpt)\n",
       "        .catch(err => showError(`Javascript Error: ${err.message}<br>This usually means there's a typo in your chart specification. See the javascript console for the full traceback.`));\n",
       "    }\n",
       "\n",
       "    if(typeof define === \"function\" && define.amd) {\n",
       "      requirejs.config({paths});\n",
       "      require([\"vega-embed\"], displayChart, err => showError(`Error loading script: ${err.message}`));\n",
       "    } else {\n",
       "      maybeLoadScript(\"vega\", \"5\")\n",
       "        .then(() => maybeLoadScript(\"vega-lite\", \"4.17.0\"))\n",
       "        .then(() => maybeLoadScript(\"vega-embed\", \"6\"))\n",
       "        .catch(showError)\n",
       "        .then(() => displayChart(vegaEmbed));\n",
       "    }\n",
       "  })({\"usermeta\": {\"embedOptions\": {\"theme\": \"dark\"}}, \"config\": {\"view\": {\"continuousWidth\": 400, \"continuousHeight\": 300}}, \"vconcat\": [{\"mark\": \"circle\", \"encoding\": {\"color\": {\"condition\": {\"field\": \"remote_ratio\", \"sort\": [\"0%\", \"50%\", \"100%\"], \"title\": \"Remote Ratio\", \"type\": \"nominal\", \"selection\": \"selector009\"}, \"value\": \"lightgray\"}, \"x\": {\"field\": \"company_location\", \"title\": \"Country\", \"type\": \"nominal\"}, \"y\": {\"field\": \"salary_in_usd\", \"title\": \"Salary in USD\", \"type\": \"quantitative\"}}, \"selection\": {\"selector009\": {\"type\": \"interval\"}, \"selector010\": {\"type\": \"multi\", \"fields\": [\"remote_ratio\"], \"on\": \"mouseover\"}}, \"title\": \"Salary per Country\"}, {\"mark\": \"bar\", \"encoding\": {\"color\": {\"field\": \"remote_ratio\", \"type\": \"nominal\"}, \"opacity\": {\"condition\": {\"value\": 0.9, \"selection\": \"selector010\"}, \"value\": 0.2}, \"x\": {\"aggregate\": \"count\", \"type\": \"quantitative\"}, \"y\": {\"field\": \"remote_ratio\", \"sort\": [\"0%\", \"50%\", \"100%\"], \"title\": \"Remote Ratio\", \"type\": \"nominal\"}}, \"selection\": {\"selector009\": {\"type\": \"interval\"}, \"selector010\": {\"type\": \"multi\", \"fields\": [\"remote_ratio\"], \"on\": \"mouseover\"}}}], \"data\": {\"name\": \"data-a2e6a08b9dd39038c4840c4574dde6da\"}, \"$schema\": \"https://vega.github.io/schema/vega-lite/v4.17.0.json\", \"datasets\": {\"data-a2e6a08b9dd39038c4840c4574dde6da\": [{\"work_year\": \"2021e\", \"experience_level\": \"EN\", \"employment_type\": \"FT\", \"job_title\": \"Data Science Consultant\", \"salary\": 54000, \"salary_currency\": \"EUR\", \"salary_in_usd\": 64369, \"employee_residence\": \"DE\", \"remote_ratio\": \"50%\", \"company_location\": \"DE\", \"company_size\": \"L\"}, {\"work_year\": \"2020\", \"experience_level\": \"SE\", \"employment_type\": \"FT\", \"job_title\": \"Data Scientist\", \"salary\": 60000, \"salary_currency\": \"EUR\", \"salary_in_usd\": 68428, \"employee_residence\": \"GR\", \"remote_ratio\": \"100%\", \"company_location\": \"US\", \"company_size\": \"L\"}, {\"work_year\": \"2021e\", \"experience_level\": \"EX\", \"employment_type\": \"FT\", \"job_title\": \"Head of Data Science\", \"salary\": 85000, \"salary_currency\": \"USD\", \"salary_in_usd\": 85000, \"employee_residence\": \"RU\", \"remote_ratio\": \"0%\", \"company_location\": \"RU\", \"company_size\": \"M\"}, {\"work_year\": \"2021e\", \"experience_level\": \"EX\", \"employment_type\": \"FT\", \"job_title\": \"Head of Data\", \"salary\": 230000, \"salary_currency\": \"USD\", \"salary_in_usd\": 230000, \"employee_residence\": \"RU\", \"remote_ratio\": \"50%\", \"company_location\": \"RU\", \"company_size\": \"L\"}, {\"work_year\": \"2021e\", \"experience_level\": \"EN\", \"employment_type\": \"FT\", \"job_title\": \"Machine Learning Engineer\", \"salary\": 125000, \"salary_currency\": \"USD\", \"salary_in_usd\": 125000, \"employee_residence\": \"US\", \"remote_ratio\": \"100%\", \"company_location\": \"US\", \"company_size\": \"S\"}, {\"work_year\": \"2021e\", \"experience_level\": \"SE\", \"employment_type\": \"FT\", \"job_title\": \"Data Analytics Manager\", \"salary\": 120000, \"salary_currency\": \"USD\", \"salary_in_usd\": 120000, \"employee_residence\": \"US\", \"remote_ratio\": \"100%\", \"company_location\": \"US\", \"company_size\": \"M\"}, {\"work_year\": \"2020\", \"experience_level\": \"MI\", \"employment_type\": \"FT\", \"job_title\": \"Research Scientist\", \"salary\": 450000, \"salary_currency\": \"USD\", \"salary_in_usd\": 450000, \"employee_residence\": \"US\", \"remote_ratio\": \"0%\", \"company_location\": \"US\", \"company_size\": \"M\"}, {\"work_year\": \"2020\", \"experience_level\": \"MI\", \"employment_type\": \"FT\", \"job_title\": \"Data Analyst\", \"salary\": 41000, \"salary_currency\": \"EUR\", \"salary_in_usd\": 46759, \"employee_residence\": \"FR\", \"remote_ratio\": \"50%\", \"company_location\": \"FR\", \"company_size\": \"L\"}, {\"work_year\": \"2020\", \"experience_level\": \"MI\", \"employment_type\": \"FT\", \"job_title\": \"Data Engineer\", \"salary\": 65000, \"salary_currency\": \"EUR\", \"salary_in_usd\": 74130, \"employee_residence\": \"AT\", \"remote_ratio\": \"50%\", \"company_location\": \"AT\", \"company_size\": \"L\"}, {\"work_year\": \"2021e\", \"experience_level\": \"SE\", \"employment_type\": \"FT\", \"job_title\": \"Data Science Engineer\", \"salary\": 159500, \"salary_currency\": \"CAD\", \"salary_in_usd\": 127543, \"employee_residence\": \"CA\", \"remote_ratio\": \"50%\", \"company_location\": \"CA\", \"company_size\": \"L\"}, {\"work_year\": \"2021e\", \"experience_level\": \"SE\", \"employment_type\": \"FT\", \"job_title\": \"Manager Data Science\", \"salary\": 144000, \"salary_currency\": \"USD\", \"salary_in_usd\": 144000, \"employee_residence\": \"US\", \"remote_ratio\": \"100%\", \"company_location\": \"US\", \"company_size\": \"L\"}, {\"work_year\": \"2021e\", \"experience_level\": \"EN\", \"employment_type\": \"FT\", \"job_title\": \"Data Scientist\", \"salary\": 13400, \"salary_currency\": \"USD\", \"salary_in_usd\": 13400, \"employee_residence\": \"UA\", \"remote_ratio\": \"100%\", \"company_location\": \"UA\", \"company_size\": \"L\"}, {\"work_year\": \"2021e\", \"experience_level\": \"MI\", \"employment_type\": \"FT\", \"job_title\": \"Data Scientist\", \"salary\": 95000, \"salary_currency\": \"CAD\", \"salary_in_usd\": 75966, \"employee_residence\": \"CA\", \"remote_ratio\": \"100%\", \"company_location\": \"CA\", \"company_size\": \"L\"}, {\"work_year\": \"2021e\", \"experience_level\": \"MI\", \"employment_type\": \"FT\", \"job_title\": \"Data Scientist\", \"salary\": 150000, \"salary_currency\": \"USD\", \"salary_in_usd\": 150000, \"employee_residence\": \"US\", \"remote_ratio\": \"100%\", \"company_location\": \"US\", \"company_size\": \"M\"}, {\"work_year\": \"2020\", \"experience_level\": \"MI\", \"employment_type\": \"FT\", \"job_title\": \"Data Science Consultant\", \"salary\": 103000, \"salary_currency\": \"USD\", \"salary_in_usd\": 103000, \"employee_residence\": \"US\", \"remote_ratio\": \"100%\", \"company_location\": \"US\", \"company_size\": \"L\"}, {\"work_year\": \"2021e\", \"experience_level\": \"SE\", \"employment_type\": \"FT\", \"job_title\": \"Data Engineering Manager\", \"salary\": 153000, \"salary_currency\": \"USD\", \"salary_in_usd\": 153000, \"employee_residence\": \"US\", \"remote_ratio\": \"100%\", \"company_location\": \"US\", \"company_size\": \"L\"}, {\"work_year\": \"2021e\", \"experience_level\": \"MI\", \"employment_type\": \"FT\", \"job_title\": \"Data Engineer\", \"salary\": 90000, \"salary_currency\": \"USD\", \"salary_in_usd\": 90000, \"employee_residence\": \"US\", \"remote_ratio\": \"100%\", \"company_location\": \"US\", \"company_size\": \"L\"}, {\"work_year\": \"2021e\", \"experience_level\": \"EN\", \"employment_type\": \"FT\", \"job_title\": \"Data Analyst\", \"salary\": 90000, \"salary_currency\": \"USD\", \"salary_in_usd\": 90000, \"employee_residence\": \"US\", \"remote_ratio\": \"100%\", \"company_location\": \"US\", \"company_size\": \"S\"}, {\"work_year\": \"2021e\", \"experience_level\": \"EN\", \"employment_type\": \"FT\", \"job_title\": \"Data Analyst\", \"salary\": 60000, \"salary_currency\": \"USD\", \"salary_in_usd\": 60000, \"employee_residence\": \"US\", \"remote_ratio\": \"100%\", \"company_location\": \"US\", \"company_size\": \"S\"}, {\"work_year\": \"2021e\", \"experience_level\": \"MI\", \"employment_type\": \"FT\", \"job_title\": \"Data Scientist\", \"salary\": 50000, \"salary_currency\": \"USD\", \"salary_in_usd\": 50000, \"employee_residence\": \"NG\", \"remote_ratio\": \"100%\", \"company_location\": \"NG\", \"company_size\": \"L\"}, {\"work_year\": \"2021e\", \"experience_level\": \"EN\", \"employment_type\": \"PT\", \"job_title\": \"AI Scientist\", \"salary\": 12000, \"salary_currency\": \"USD\", \"salary_in_usd\": 12000, \"employee_residence\": \"PK\", \"remote_ratio\": \"100%\", \"company_location\": \"US\", \"company_size\": \"M\"}, {\"work_year\": \"2021e\", \"experience_level\": \"MI\", \"employment_type\": \"PT\", \"job_title\": \"3D Computer Vision Researcher\", \"salary\": 400000, \"salary_currency\": \"INR\", \"salary_in_usd\": 5423, \"employee_residence\": \"IN\", \"remote_ratio\": \"50%\", \"company_location\": \"IN\", \"company_size\": \"M\"}, {\"work_year\": \"2021e\", \"experience_level\": \"MI\", \"employment_type\": \"CT\", \"job_title\": \"ML Engineer\", \"salary\": 270000, \"salary_currency\": \"USD\", \"salary_in_usd\": 270000, \"employee_residence\": \"US\", \"remote_ratio\": \"100%\", \"company_location\": \"US\", \"company_size\": \"L\"}, {\"work_year\": \"2021e\", \"experience_level\": \"MI\", \"employment_type\": \"FT\", \"job_title\": \"Applied Data Scientist\", \"salary\": 68000, \"salary_currency\": \"CAD\", \"salary_in_usd\": 54376, \"employee_residence\": \"GB\", \"remote_ratio\": \"50%\", \"company_location\": \"CA\", \"company_size\": \"L\"}, {\"work_year\": \"2021e\", \"experience_level\": \"MI\", \"employment_type\": \"FT\", \"job_title\": \"Machine Learning Engineer\", \"salary\": 40000, \"salary_currency\": \"EUR\", \"salary_in_usd\": 47681, \"employee_residence\": \"ES\", \"remote_ratio\": \"100%\", \"company_location\": \"ES\", \"company_size\": \"S\"}, {\"work_year\": \"2021e\", \"experience_level\": \"EX\", \"employment_type\": \"FT\", \"job_title\": \"Director of Data Science\", \"salary\": 130000, \"salary_currency\": \"EUR\", \"salary_in_usd\": 154963, \"employee_residence\": \"IT\", \"remote_ratio\": \"100%\", \"company_location\": \"PL\", \"company_size\": \"L\"}, {\"work_year\": \"2021e\", \"experience_level\": \"MI\", \"employment_type\": \"FT\", \"job_title\": \"Data Engineer\", \"salary\": 110000, \"salary_currency\": \"PLN\", \"salary_in_usd\": 28801, \"employee_residence\": \"PL\", \"remote_ratio\": \"100%\", \"company_location\": \"PL\", \"company_size\": \"L\"}, {\"work_year\": \"2021e\", \"experience_level\": \"MI\", \"employment_type\": \"FT\", \"job_title\": \"Data Analytics Engineer\", \"salary\": 110000, \"salary_currency\": \"USD\", \"salary_in_usd\": 110000, \"employee_residence\": \"US\", \"remote_ratio\": \"100%\", \"company_location\": \"US\", \"company_size\": \"L\"}, {\"work_year\": \"2021e\", \"experience_level\": \"EN\", \"employment_type\": \"FT\", \"job_title\": \"Research Scientist\", \"salary\": 60000, \"salary_currency\": \"GBP\", \"salary_in_usd\": 83000, \"employee_residence\": \"GB\", \"remote_ratio\": \"50%\", \"company_location\": \"GB\", \"company_size\": \"L\"}, {\"work_year\": \"2020\", \"experience_level\": \"EN\", \"employment_type\": \"FT\", \"job_title\": \"Machine Learning Engineer\", \"salary\": 250000, \"salary_currency\": \"USD\", \"salary_in_usd\": 250000, \"employee_residence\": \"US\", \"remote_ratio\": \"50%\", \"company_location\": \"US\", \"company_size\": \"L\"}, {\"work_year\": \"2021e\", \"experience_level\": \"EN\", \"employment_type\": \"FT\", \"job_title\": \"Data Analyst\", \"salary\": 50000, \"salary_currency\": \"EUR\", \"salary_in_usd\": 59601, \"employee_residence\": \"FR\", \"remote_ratio\": \"50%\", \"company_location\": \"FR\", \"company_size\": \"M\"}, {\"work_year\": \"2021e\", \"experience_level\": \"SE\", \"employment_type\": \"FT\", \"job_title\": \"Data Analyst\", \"salary\": 80000, \"salary_currency\": \"USD\", \"salary_in_usd\": 80000, \"employee_residence\": \"BG\", \"remote_ratio\": \"100%\", \"company_location\": \"US\", \"company_size\": \"S\"}, {\"work_year\": \"2020\", \"experience_level\": \"EN\", \"employment_type\": \"FT\", \"job_title\": \"Data Analyst\", \"salary\": 10000, \"salary_currency\": \"USD\", \"salary_in_usd\": 10000, \"employee_residence\": \"NG\", \"remote_ratio\": \"100%\", \"company_location\": \"NG\", \"company_size\": \"S\"}, {\"work_year\": \"2020\", \"experience_level\": \"EN\", \"employment_type\": \"FT\", \"job_title\": \"Machine Learning Engineer\", \"salary\": 138000, \"salary_currency\": \"USD\", \"salary_in_usd\": 138000, \"employee_residence\": \"US\", \"remote_ratio\": \"100%\", \"company_location\": \"US\", \"company_size\": \"S\"}, {\"work_year\": \"2021e\", \"experience_level\": \"MI\", \"employment_type\": \"FT\", \"job_title\": \"Data Engineer\", \"salary\": 140000, \"salary_currency\": \"USD\", \"salary_in_usd\": 140000, \"employee_residence\": \"US\", \"remote_ratio\": \"100%\", \"company_location\": \"US\", \"company_size\": \"L\"}, {\"work_year\": \"2021e\", \"experience_level\": \"SE\", \"employment_type\": \"FT\", \"job_title\": \"Data Analytics Engineer\", \"salary\": 67000, \"salary_currency\": \"EUR\", \"salary_in_usd\": 79866, \"employee_residence\": \"DE\", \"remote_ratio\": \"100%\", \"company_location\": \"DE\", \"company_size\": \"L\"}, {\"work_year\": \"2021e\", \"experience_level\": \"SE\", \"employment_type\": \"FT\", \"job_title\": \"Lead Data Analyst\", \"salary\": 170000, \"salary_currency\": \"USD\", \"salary_in_usd\": 170000, \"employee_residence\": \"US\", \"remote_ratio\": \"100%\", \"company_location\": \"US\", \"company_size\": \"L\"}, {\"work_year\": \"2021e\", \"experience_level\": \"EN\", \"employment_type\": \"FT\", \"job_title\": \"Data Analyst\", \"salary\": 80000, \"salary_currency\": \"USD\", \"salary_in_usd\": 80000, \"employee_residence\": \"US\", \"remote_ratio\": \"100%\", \"company_location\": \"US\", \"company_size\": \"M\"}, {\"work_year\": \"2020\", \"experience_level\": \"MI\", \"employment_type\": \"FT\", \"job_title\": \"Data Scientist\", \"salary\": 45760, \"salary_currency\": \"USD\", \"salary_in_usd\": 45760, \"employee_residence\": \"PH\", \"remote_ratio\": \"100%\", \"company_location\": \"US\", \"company_size\": \"S\"}, {\"work_year\": \"2021e\", \"experience_level\": \"MI\", \"employment_type\": \"FT\", \"job_title\": \"BI Data Analyst\", \"salary\": 100000, \"salary_currency\": \"USD\", \"salary_in_usd\": 100000, \"employee_residence\": \"US\", \"remote_ratio\": \"100%\", \"company_location\": \"US\", \"company_size\": \"M\"}, {\"work_year\": \"2021e\", \"experience_level\": \"SE\", \"employment_type\": \"FT\", \"job_title\": \"Data Scientist\", \"salary\": 45000, \"salary_currency\": \"EUR\", \"salary_in_usd\": 53641, \"employee_residence\": \"FR\", \"remote_ratio\": \"50%\", \"company_location\": \"FR\", \"company_size\": \"L\"}, {\"work_year\": \"2021e\", \"experience_level\": \"EX\", \"employment_type\": \"FT\", \"job_title\": \"Head of Data\", \"salary\": 235000, \"salary_currency\": \"USD\", \"salary_in_usd\": 235000, \"employee_residence\": \"US\", \"remote_ratio\": \"100%\", \"company_location\": \"US\", \"company_size\": \"L\"}, {\"work_year\": \"2021e\", \"experience_level\": \"EX\", \"employment_type\": \"FT\", \"job_title\": \"BI Data Analyst\", \"salary\": 150000, \"salary_currency\": \"USD\", \"salary_in_usd\": 150000, \"employee_residence\": \"IN\", \"remote_ratio\": \"100%\", \"company_location\": \"US\", \"company_size\": \"L\"}, {\"work_year\": \"2020\", \"experience_level\": \"EX\", \"employment_type\": \"FT\", \"job_title\": \"Data Engineering Manager\", \"salary\": 70000, \"salary_currency\": \"EUR\", \"salary_in_usd\": 79833, \"employee_residence\": \"ES\", \"remote_ratio\": \"50%\", \"company_location\": \"ES\", \"company_size\": \"L\"}, {\"work_year\": \"2021e\", \"experience_level\": \"EN\", \"employment_type\": \"FT\", \"job_title\": \"Machine Learning Scientist\", \"salary\": 225000, \"salary_currency\": \"USD\", \"salary_in_usd\": 225000, \"employee_residence\": \"US\", \"remote_ratio\": \"100%\", \"company_location\": \"US\", \"company_size\": \"L\"}, {\"work_year\": \"2021e\", \"experience_level\": \"EN\", \"employment_type\": \"FT\", \"job_title\": \"Data Science Consultant\", \"salary\": 65000, \"salary_currency\": \"EUR\", \"salary_in_usd\": 77481, \"employee_residence\": \"DE\", \"remote_ratio\": \"100%\", \"company_location\": \"DE\", \"company_size\": \"S\"}, {\"work_year\": \"2020\", \"experience_level\": \"MI\", \"employment_type\": \"FT\", \"job_title\": \"Machine Learning Infrastructure Engineer\", \"salary\": 44000, \"salary_currency\": \"EUR\", \"salary_in_usd\": 50180, \"employee_residence\": \"PT\", \"remote_ratio\": \"0%\", \"company_location\": \"PT\", \"company_size\": \"M\"}, {\"work_year\": \"2021e\", \"experience_level\": \"SE\", \"employment_type\": \"FT\", \"job_title\": \"Marketing Data Analyst\", \"salary\": 75000, \"salary_currency\": \"EUR\", \"salary_in_usd\": 89402, \"employee_residence\": \"GR\", \"remote_ratio\": \"100%\", \"company_location\": \"DK\", \"company_size\": \"L\"}, {\"work_year\": \"2021e\", \"experience_level\": \"SE\", \"employment_type\": \"FT\", \"job_title\": \"Lead Data Engineer\", \"salary\": 75000, \"salary_currency\": \"GBP\", \"salary_in_usd\": 103750, \"employee_residence\": \"GB\", \"remote_ratio\": \"100%\", \"company_location\": \"GB\", \"company_size\": \"S\"}, {\"work_year\": \"2021e\", \"experience_level\": \"SE\", \"employment_type\": \"FT\", \"job_title\": \"Director of Data Engineering\", \"salary\": 82500, \"salary_currency\": \"GBP\", \"salary_in_usd\": 114125, \"employee_residence\": \"GB\", \"remote_ratio\": \"100%\", \"company_location\": \"GB\", \"company_size\": \"M\"}, {\"work_year\": \"2021e\", \"experience_level\": \"SE\", \"employment_type\": \"FT\", \"job_title\": \"Machine Learning Engineer\", \"salary\": 80000, \"salary_currency\": \"EUR\", \"salary_in_usd\": 95362, \"employee_residence\": \"DE\", \"remote_ratio\": \"50%\", \"company_location\": \"DE\", \"company_size\": \"L\"}, {\"work_year\": \"2021e\", \"experience_level\": \"EN\", \"employment_type\": \"FT\", \"job_title\": \"Data Engineer\", \"salary\": 2250000, \"salary_currency\": \"INR\", \"salary_in_usd\": 30509, \"employee_residence\": \"IN\", \"remote_ratio\": \"100%\", \"company_location\": \"IN\", \"company_size\": \"L\"}, {\"work_year\": \"2021e\", \"experience_level\": \"SE\", \"employment_type\": \"FT\", \"job_title\": \"Data Engineer\", \"salary\": 150000, \"salary_currency\": \"USD\", \"salary_in_usd\": 150000, \"employee_residence\": \"US\", \"remote_ratio\": \"100%\", \"company_location\": \"US\", \"company_size\": \"M\"}, {\"work_year\": \"2021e\", \"experience_level\": \"SE\", \"employment_type\": \"FT\", \"job_title\": \"Data Engineer\", \"salary\": 115000, \"salary_currency\": \"USD\", \"salary_in_usd\": 115000, \"employee_residence\": \"US\", \"remote_ratio\": \"100%\", \"company_location\": \"US\", \"company_size\": \"S\"}, {\"work_year\": \"2021e\", \"experience_level\": \"MI\", \"employment_type\": \"FT\", \"job_title\": \"Research Scientist\", \"salary\": 235000, \"salary_currency\": \"CAD\", \"salary_in_usd\": 187917, \"employee_residence\": \"CA\", \"remote_ratio\": \"100%\", \"company_location\": \"CA\", \"company_size\": \"L\"}, {\"work_year\": \"2021e\", \"experience_level\": \"MI\", \"employment_type\": \"FT\", \"job_title\": \"Data Analyst\", \"salary\": 37456, \"salary_currency\": \"GBP\", \"salary_in_usd\": 51814, \"employee_residence\": \"GB\", \"remote_ratio\": \"50%\", \"company_location\": \"GB\", \"company_size\": \"L\"}, {\"work_year\": \"2020\", \"experience_level\": \"MI\", \"employment_type\": \"FT\", \"job_title\": \"Data Engineer\", \"salary\": 106000, \"salary_currency\": \"USD\", \"salary_in_usd\": 106000, \"employee_residence\": \"US\", \"remote_ratio\": \"100%\", \"company_location\": \"US\", \"company_size\": \"L\"}, {\"work_year\": \"2020\", \"experience_level\": \"MI\", \"employment_type\": \"FT\", \"job_title\": \"Data Engineer\", \"salary\": 88000, \"salary_currency\": \"GBP\", \"salary_in_usd\": 112872, \"employee_residence\": \"GB\", \"remote_ratio\": \"50%\", \"company_location\": \"GB\", \"company_size\": \"L\"}, {\"work_year\": \"2021e\", \"experience_level\": \"MI\", \"employment_type\": \"FT\", \"job_title\": \"BI Data Analyst\", \"salary\": 11000000, \"salary_currency\": \"HUF\", \"salary_in_usd\": 36732, \"employee_residence\": \"HU\", \"remote_ratio\": \"50%\", \"company_location\": \"US\", \"company_size\": \"L\"}, {\"work_year\": \"2021e\", \"experience_level\": \"SE\", \"employment_type\": \"FT\", \"job_title\": \"Data Engineer\", \"salary\": 150000, \"salary_currency\": \"USD\", \"salary_in_usd\": 150000, \"employee_residence\": \"US\", \"remote_ratio\": \"100%\", \"company_location\": \"US\", \"company_size\": \"L\"}, {\"work_year\": \"2020\", \"experience_level\": \"EN\", \"employment_type\": \"PT\", \"job_title\": \"ML Engineer\", \"salary\": 14000, \"salary_currency\": \"EUR\", \"salary_in_usd\": 15966, \"employee_residence\": \"DE\", \"remote_ratio\": \"100%\", \"company_location\": \"DE\", \"company_size\": \"S\"}, {\"work_year\": \"2021e\", \"experience_level\": \"MI\", \"employment_type\": \"FT\", \"job_title\": \"Computer Vision Software Engineer\", \"salary\": 81000, \"salary_currency\": \"EUR\", \"salary_in_usd\": 96554, \"employee_residence\": \"DE\", \"remote_ratio\": \"100%\", \"company_location\": \"US\", \"company_size\": \"S\"}, {\"work_year\": \"2021e\", \"experience_level\": \"EN\", \"employment_type\": \"FT\", \"job_title\": \"Computer Vision Software Engineer\", \"salary\": 70000, \"salary_currency\": \"USD\", \"salary_in_usd\": 70000, \"employee_residence\": \"US\", \"remote_ratio\": \"100%\", \"company_location\": \"US\", \"company_size\": \"M\"}, {\"work_year\": \"2021e\", \"experience_level\": \"MI\", \"employment_type\": \"FT\", \"job_title\": \"Financial Data Analyst\", \"salary\": 450000, \"salary_currency\": \"USD\", \"salary_in_usd\": 450000, \"employee_residence\": \"US\", \"remote_ratio\": \"100%\", \"company_location\": \"US\", \"company_size\": \"L\"}, {\"work_year\": \"2020\", \"experience_level\": \"MI\", \"employment_type\": \"FT\", \"job_title\": \"Data Scientist\", \"salary\": 60000, \"salary_currency\": \"GBP\", \"salary_in_usd\": 76958, \"employee_residence\": \"GB\", \"remote_ratio\": \"100%\", \"company_location\": \"GB\", \"company_size\": \"S\"}, {\"work_year\": \"2021e\", \"experience_level\": \"MI\", \"employment_type\": \"FT\", \"job_title\": \"Cloud Data Engineer\", \"salary\": 120000, \"salary_currency\": \"SGD\", \"salary_in_usd\": 89514, \"employee_residence\": \"SG\", \"remote_ratio\": \"50%\", \"company_location\": \"SG\", \"company_size\": \"L\"}, {\"work_year\": \"2021e\", \"experience_level\": \"EN\", \"employment_type\": \"FT\", \"job_title\": \"Data Scientist\", \"salary\": 2200000, \"salary_currency\": \"INR\", \"salary_in_usd\": 29831, \"employee_residence\": \"IN\", \"remote_ratio\": \"50%\", \"company_location\": \"IN\", \"company_size\": \"L\"}, {\"work_year\": \"2021e\", \"experience_level\": \"SE\", \"employment_type\": \"FT\", \"job_title\": \"Lead Data Engineer\", \"salary\": 276000, \"salary_currency\": \"USD\", \"salary_in_usd\": 276000, \"employee_residence\": \"US\", \"remote_ratio\": \"0%\", \"company_location\": \"US\", \"company_size\": \"L\"}, {\"work_year\": \"2020\", \"experience_level\": \"SE\", \"employment_type\": \"FT\", \"job_title\": \"Data Engineer\", \"salary\": 188000, \"salary_currency\": \"USD\", \"salary_in_usd\": 188000, \"employee_residence\": \"US\", \"remote_ratio\": \"100%\", \"company_location\": \"US\", \"company_size\": \"L\"}, {\"work_year\": \"2021e\", \"experience_level\": \"SE\", \"employment_type\": \"FT\", \"job_title\": \"Cloud Data Engineer\", \"salary\": 160000, \"salary_currency\": \"USD\", \"salary_in_usd\": 160000, \"employee_residence\": \"BR\", \"remote_ratio\": \"100%\", \"company_location\": \"US\", \"company_size\": \"S\"}, {\"work_year\": \"2020\", \"experience_level\": \"MI\", \"employment_type\": \"FT\", \"job_title\": \"Data Scientist\", \"salary\": 105000, \"salary_currency\": \"USD\", \"salary_in_usd\": 105000, \"employee_residence\": \"US\", \"remote_ratio\": \"100%\", \"company_location\": \"US\", \"company_size\": \"L\"}, {\"work_year\": \"2021e\", \"experience_level\": \"MI\", \"employment_type\": \"FT\", \"job_title\": \"Data Engineer\", \"salary\": 200000, \"salary_currency\": \"USD\", \"salary_in_usd\": 200000, \"employee_residence\": \"US\", \"remote_ratio\": \"100%\", \"company_location\": \"US\", \"company_size\": \"L\"}, {\"work_year\": \"2021e\", \"experience_level\": \"SE\", \"employment_type\": \"FT\", \"job_title\": \"Data Engineering Manager\", \"salary\": 174000, \"salary_currency\": \"USD\", \"salary_in_usd\": 174000, \"employee_residence\": \"US\", \"remote_ratio\": \"100%\", \"company_location\": \"US\", \"company_size\": \"L\"}, {\"work_year\": \"2021e\", \"experience_level\": \"MI\", \"employment_type\": \"FT\", \"job_title\": \"Data Analyst\", \"salary\": 93000, \"salary_currency\": \"USD\", \"salary_in_usd\": 93000, \"employee_residence\": \"US\", \"remote_ratio\": \"100%\", \"company_location\": \"US\", \"company_size\": \"L\"}, {\"work_year\": \"2021e\", \"experience_level\": \"EN\", \"employment_type\": \"FT\", \"job_title\": \"Data Scientist\", \"salary\": 2100000, \"salary_currency\": \"INR\", \"salary_in_usd\": 28475, \"employee_residence\": \"IN\", \"remote_ratio\": \"100%\", \"company_location\": \"IN\", \"company_size\": \"M\"}, {\"work_year\": \"2021e\", \"experience_level\": \"SE\", \"employment_type\": \"FT\", \"job_title\": \"Research Scientist\", \"salary\": 51400, \"salary_currency\": \"EUR\", \"salary_in_usd\": 61270, \"employee_residence\": \"PT\", \"remote_ratio\": \"50%\", \"company_location\": \"PT\", \"company_size\": \"L\"}, {\"work_year\": \"2021e\", \"experience_level\": \"EN\", \"employment_type\": \"FT\", \"job_title\": \"Data Scientist\", \"salary\": 90000, \"salary_currency\": \"USD\", \"salary_in_usd\": 90000, \"employee_residence\": \"US\", \"remote_ratio\": \"100%\", \"company_location\": \"US\", \"company_size\": \"S\"}, {\"work_year\": \"2020\", \"experience_level\": \"MI\", \"employment_type\": \"FT\", \"job_title\": \"Data Engineer\", \"salary\": 61500, \"salary_currency\": \"EUR\", \"salary_in_usd\": 70139, \"employee_residence\": \"FR\", \"remote_ratio\": \"50%\", \"company_location\": \"FR\", \"company_size\": \"L\"}, {\"work_year\": \"2020\", \"experience_level\": \"EN\", \"employment_type\": \"FT\", \"job_title\": \"Data Analyst\", \"salary\": 450000, \"salary_currency\": \"INR\", \"salary_in_usd\": 6072, \"employee_residence\": \"IN\", \"remote_ratio\": \"0%\", \"company_location\": \"IN\", \"company_size\": \"S\"}, {\"work_year\": \"2020\", \"experience_level\": \"SE\", \"employment_type\": \"FT\", \"job_title\": \"Data Engineer\", \"salary\": 720000, \"salary_currency\": \"MXN\", \"salary_in_usd\": 33511, \"employee_residence\": \"MX\", \"remote_ratio\": \"0%\", \"company_location\": \"MX\", \"company_size\": \"S\"}, {\"work_year\": \"2021e\", \"experience_level\": \"SE\", \"employment_type\": \"FT\", \"job_title\": \"Principal Data Analyst\", \"salary\": 170000, \"salary_currency\": \"USD\", \"salary_in_usd\": 170000, \"employee_residence\": \"US\", \"remote_ratio\": \"100%\", \"company_location\": \"US\", \"company_size\": \"M\"}, {\"work_year\": \"2021e\", \"experience_level\": \"SE\", \"employment_type\": \"FT\", \"job_title\": \"Data Engineer\", \"salary\": 70000, \"salary_currency\": \"GBP\", \"salary_in_usd\": 96833, \"employee_residence\": \"GB\", \"remote_ratio\": \"50%\", \"company_location\": \"GB\", \"company_size\": \"L\"}, {\"work_year\": \"2021e\", \"experience_level\": \"MI\", \"employment_type\": \"FT\", \"job_title\": \"Data Engineer\", \"salary\": 108000, \"salary_currency\": \"TRY\", \"salary_in_usd\": 13105, \"employee_residence\": \"TR\", \"remote_ratio\": \"0%\", \"company_location\": \"TR\", \"company_size\": \"M\"}, {\"work_year\": \"2021e\", \"experience_level\": \"EN\", \"employment_type\": \"FT\", \"job_title\": \"Data Scientist\", \"salary\": 31000, \"salary_currency\": \"EUR\", \"salary_in_usd\": 36952, \"employee_residence\": \"FR\", \"remote_ratio\": \"50%\", \"company_location\": \"FR\", \"company_size\": \"L\"}, {\"work_year\": \"2021e\", \"experience_level\": \"MI\", \"employment_type\": \"FT\", \"job_title\": \"Data Engineer\", \"salary\": 52500, \"salary_currency\": \"GBP\", \"salary_in_usd\": 72625, \"employee_residence\": \"GB\", \"remote_ratio\": \"50%\", \"company_location\": \"GB\", \"company_size\": \"L\"}, {\"work_year\": \"2020\", \"experience_level\": \"EN\", \"employment_type\": \"FT\", \"job_title\": \"Data Analyst\", \"salary\": 91000, \"salary_currency\": \"USD\", \"salary_in_usd\": 91000, \"employee_residence\": \"US\", \"remote_ratio\": \"100%\", \"company_location\": \"US\", \"company_size\": \"L\"}, {\"work_year\": \"2021e\", \"experience_level\": \"SE\", \"employment_type\": \"FT\", \"job_title\": \"Big Data Architect\", \"salary\": 125000, \"salary_currency\": \"CAD\", \"salary_in_usd\": 99956, \"employee_residence\": \"CA\", \"remote_ratio\": \"50%\", \"company_location\": \"CA\", \"company_size\": \"M\"}, {\"work_year\": \"2021e\", \"experience_level\": \"SE\", \"employment_type\": \"FT\", \"job_title\": \"Data Scientist\", \"salary\": 165000, \"salary_currency\": \"USD\", \"salary_in_usd\": 165000, \"employee_residence\": \"US\", \"remote_ratio\": \"100%\", \"company_location\": \"US\", \"company_size\": \"L\"}, {\"work_year\": \"2021e\", \"experience_level\": \"MI\", \"employment_type\": \"FT\", \"job_title\": \"Data Analyst\", \"salary\": 80000, \"salary_currency\": \"USD\", \"salary_in_usd\": 80000, \"employee_residence\": \"US\", \"remote_ratio\": \"100%\", \"company_location\": \"US\", \"company_size\": \"L\"}, {\"work_year\": \"2021e\", \"experience_level\": \"SE\", \"employment_type\": \"FT\", \"job_title\": \"Data Scientist\", \"salary\": 130000, \"salary_currency\": \"CAD\", \"salary_in_usd\": 103954, \"employee_residence\": \"CA\", \"remote_ratio\": \"100%\", \"company_location\": \"CA\", \"company_size\": \"L\"}, {\"work_year\": \"2021e\", \"experience_level\": \"EN\", \"employment_type\": \"FT\", \"job_title\": \"Data Engineer\", \"salary\": 1600000, \"salary_currency\": \"INR\", \"salary_in_usd\": 21695, \"employee_residence\": \"IN\", \"remote_ratio\": \"50%\", \"company_location\": \"IN\", \"company_size\": \"M\"}, {\"work_year\": \"2020\", \"experience_level\": \"EN\", \"employment_type\": \"FT\", \"job_title\": \"Research Scientist\", \"salary\": 42000, \"salary_currency\": \"USD\", \"salary_in_usd\": 42000, \"employee_residence\": \"NL\", \"remote_ratio\": \"50%\", \"company_location\": \"NL\", \"company_size\": \"L\"}, {\"work_year\": \"2020\", \"experience_level\": \"MI\", \"employment_type\": \"FT\", \"job_title\": \"Lead Data Scientist\", \"salary\": 115000, \"salary_currency\": \"USD\", \"salary_in_usd\": 115000, \"employee_residence\": \"AE\", \"remote_ratio\": \"0%\", \"company_location\": \"AE\", \"company_size\": \"L\"}, {\"work_year\": \"2021e\", \"experience_level\": \"MI\", \"employment_type\": \"FT\", \"job_title\": \"Research Scientist\", \"salary\": 80000, \"salary_currency\": \"CAD\", \"salary_in_usd\": 63971, \"employee_residence\": \"CA\", \"remote_ratio\": \"100%\", \"company_location\": \"CA\", \"company_size\": \"M\"}, {\"work_year\": \"2020\", \"experience_level\": \"SE\", \"employment_type\": \"FT\", \"job_title\": \"Machine Learning Scientist\", \"salary\": 260000, \"salary_currency\": \"USD\", \"salary_in_usd\": 260000, \"employee_residence\": \"JP\", \"remote_ratio\": \"0%\", \"company_location\": \"JP\", \"company_size\": \"S\"}, {\"work_year\": \"2021e\", \"experience_level\": \"MI\", \"employment_type\": \"FT\", \"job_title\": \"Head of Data Science\", \"salary\": 110000, \"salary_currency\": \"USD\", \"salary_in_usd\": 110000, \"employee_residence\": \"US\", \"remote_ratio\": \"0%\", \"company_location\": \"US\", \"company_size\": \"S\"}, {\"work_year\": \"2021e\", \"experience_level\": \"MI\", \"employment_type\": \"FT\", \"job_title\": \"Data Architect\", \"salary\": 180000, \"salary_currency\": \"USD\", \"salary_in_usd\": 180000, \"employee_residence\": \"US\", \"remote_ratio\": \"100%\", \"company_location\": \"US\", \"company_size\": \"L\"}, {\"work_year\": \"2021e\", \"experience_level\": \"SE\", \"employment_type\": \"FT\", \"job_title\": \"Data Analyst\", \"salary\": 200000, \"salary_currency\": \"USD\", \"salary_in_usd\": 200000, \"employee_residence\": \"US\", \"remote_ratio\": \"100%\", \"company_location\": \"US\", \"company_size\": \"L\"}, {\"work_year\": \"2020\", \"experience_level\": \"SE\", \"employment_type\": \"FT\", \"job_title\": \"Big Data Engineer\", \"salary\": 85000, \"salary_currency\": \"GBP\", \"salary_in_usd\": 109024, \"employee_residence\": \"GB\", \"remote_ratio\": \"50%\", \"company_location\": \"GB\", \"company_size\": \"M\"}, {\"work_year\": \"2021e\", \"experience_level\": \"SE\", \"employment_type\": \"FT\", \"job_title\": \"Director of Data Engineering\", \"salary\": 200000, \"salary_currency\": \"USD\", \"salary_in_usd\": 200000, \"employee_residence\": \"US\", \"remote_ratio\": \"100%\", \"company_location\": \"US\", \"company_size\": \"L\"}, {\"work_year\": \"2021e\", \"experience_level\": \"SE\", \"employment_type\": \"FT\", \"job_title\": \"ML Engineer\", \"salary\": 256000, \"salary_currency\": \"USD\", \"salary_in_usd\": 256000, \"employee_residence\": \"US\", \"remote_ratio\": \"100%\", \"company_location\": \"US\", \"company_size\": \"S\"}, {\"work_year\": \"2021e\", \"experience_level\": \"MI\", \"employment_type\": \"FT\", \"job_title\": \"Data Engineer\", \"salary\": 110000, \"salary_currency\": \"USD\", \"salary_in_usd\": 110000, \"employee_residence\": \"US\", \"remote_ratio\": \"100%\", \"company_location\": \"US\", \"company_size\": \"L\"}, {\"work_year\": \"2020\", \"experience_level\": \"MI\", \"employment_type\": \"FT\", \"job_title\": \"Data Scientist\", \"salary\": 70000, \"salary_currency\": \"EUR\", \"salary_in_usd\": 79833, \"employee_residence\": \"DE\", \"remote_ratio\": \"0%\", \"company_location\": \"DE\", \"company_size\": \"L\"}, {\"work_year\": \"2021e\", \"experience_level\": \"EN\", \"employment_type\": \"FT\", \"job_title\": \"Data Engineer\", \"salary\": 72500, \"salary_currency\": \"USD\", \"salary_in_usd\": 72500, \"employee_residence\": \"US\", \"remote_ratio\": \"100%\", \"company_location\": \"US\", \"company_size\": \"L\"}, {\"work_year\": \"2021e\", \"experience_level\": \"SE\", \"employment_type\": \"FT\", \"job_title\": \"Machine Learning Engineer\", \"salary\": 185000, \"salary_currency\": \"USD\", \"salary_in_usd\": 185000, \"employee_residence\": \"US\", \"remote_ratio\": \"50%\", \"company_location\": \"US\", \"company_size\": \"L\"}, {\"work_year\": \"2021e\", \"experience_level\": \"MI\", \"employment_type\": \"PT\", \"job_title\": \"Data Engineer\", \"salary\": 59000, \"salary_currency\": \"EUR\", \"salary_in_usd\": 70329, \"employee_residence\": \"NL\", \"remote_ratio\": \"100%\", \"company_location\": \"NL\", \"company_size\": \"L\"}, {\"work_year\": \"2021e\", \"experience_level\": \"EN\", \"employment_type\": \"FT\", \"job_title\": \"Research Scientist\", \"salary\": 100000, \"salary_currency\": \"USD\", \"salary_in_usd\": 100000, \"employee_residence\": \"JE\", \"remote_ratio\": \"0%\", \"company_location\": \"CN\", \"company_size\": \"L\"}, {\"work_year\": \"2021e\", \"experience_level\": \"MI\", \"employment_type\": \"FT\", \"job_title\": \"Data Engineer\", \"salary\": 112000, \"salary_currency\": \"USD\", \"salary_in_usd\": 112000, \"employee_residence\": \"US\", \"remote_ratio\": \"100%\", \"company_location\": \"US\", \"company_size\": \"L\"}, {\"work_year\": \"2020\", \"experience_level\": \"SE\", \"employment_type\": \"FT\", \"job_title\": \"Machine Learning Engineer\", \"salary\": 150000, \"salary_currency\": \"USD\", \"salary_in_usd\": 150000, \"employee_residence\": \"US\", \"remote_ratio\": \"50%\", \"company_location\": \"US\", \"company_size\": \"L\"}, {\"work_year\": \"2021e\", \"experience_level\": \"SE\", \"employment_type\": \"FT\", \"job_title\": \"Data Scientist\", \"salary\": 180000, \"salary_currency\": \"TRY\", \"salary_in_usd\": 21843, \"employee_residence\": \"TR\", \"remote_ratio\": \"50%\", \"company_location\": \"TR\", \"company_size\": \"L\"}, {\"work_year\": \"2021e\", \"experience_level\": \"SE\", \"employment_type\": \"FT\", \"job_title\": \"AI Scientist\", \"salary\": 55000, \"salary_currency\": \"USD\", \"salary_in_usd\": 55000, \"employee_residence\": \"ES\", \"remote_ratio\": \"100%\", \"company_location\": \"ES\", \"company_size\": \"L\"}, {\"work_year\": \"2021e\", \"experience_level\": \"EN\", \"employment_type\": \"FT\", \"job_title\": \"Data Scientist\", \"salary\": 58000, \"salary_currency\": \"USD\", \"salary_in_usd\": 58000, \"employee_residence\": \"US\", \"remote_ratio\": \"50%\", \"company_location\": \"US\", \"company_size\": \"L\"}, {\"work_year\": \"2021e\", \"experience_level\": \"EN\", \"employment_type\": \"FT\", \"job_title\": \"Data Scientist\", \"salary\": 100000, \"salary_currency\": \"USD\", \"salary_in_usd\": 100000, \"employee_residence\": \"US\", \"remote_ratio\": \"100%\", \"company_location\": \"US\", \"company_size\": \"M\"}, {\"work_year\": \"2021e\", \"experience_level\": \"SE\", \"employment_type\": \"FT\", \"job_title\": \"Data Scientist\", \"salary\": 65720, \"salary_currency\": \"EUR\", \"salary_in_usd\": 78340, \"employee_residence\": \"FR\", \"remote_ratio\": \"50%\", \"company_location\": \"FR\", \"company_size\": \"M\"}, {\"work_year\": \"2021e\", \"experience_level\": \"EN\", \"employment_type\": \"FT\", \"job_title\": \"Machine Learning Engineer\", \"salary\": 85000, \"salary_currency\": \"USD\", \"salary_in_usd\": 85000, \"employee_residence\": \"NL\", \"remote_ratio\": \"100%\", \"company_location\": \"DE\", \"company_size\": \"S\"}, {\"work_year\": \"2021e\", \"experience_level\": \"EN\", \"employment_type\": \"FT\", \"job_title\": \"Data Science Consultant\", \"salary\": 65000, \"salary_currency\": \"EUR\", \"salary_in_usd\": 77481, \"employee_residence\": \"DE\", \"remote_ratio\": \"0%\", \"company_location\": \"DE\", \"company_size\": \"L\"}, {\"work_year\": \"2021e\", \"experience_level\": \"SE\", \"employment_type\": \"CT\", \"job_title\": \"Staff Data Scientist\", \"salary\": 105000, \"salary_currency\": \"USD\", \"salary_in_usd\": 105000, \"employee_residence\": \"US\", \"remote_ratio\": \"100%\", \"company_location\": \"US\", \"company_size\": \"M\"}, {\"work_year\": \"2020\", \"experience_level\": \"EN\", \"employment_type\": \"FT\", \"job_title\": \"Data Analyst\", \"salary\": 72000, \"salary_currency\": \"USD\", \"salary_in_usd\": 72000, \"employee_residence\": \"US\", \"remote_ratio\": \"100%\", \"company_location\": \"US\", \"company_size\": \"L\"}, {\"work_year\": \"2021e\", \"experience_level\": \"EN\", \"employment_type\": \"FT\", \"job_title\": \"Data Engineer\", \"salary\": 55000, \"salary_currency\": \"EUR\", \"salary_in_usd\": 65561, \"employee_residence\": \"DE\", \"remote_ratio\": \"50%\", \"company_location\": \"DE\", \"company_size\": \"M\"}, {\"work_year\": \"2021e\", \"experience_level\": \"MI\", \"employment_type\": \"FT\", \"job_title\": \"Data Engineer\", \"salary\": 250000, \"salary_currency\": \"TRY\", \"salary_in_usd\": 30337, \"employee_residence\": \"TR\", \"remote_ratio\": \"100%\", \"company_location\": \"TR\", \"company_size\": \"M\"}, {\"work_year\": \"2021e\", \"experience_level\": \"MI\", \"employment_type\": \"FT\", \"job_title\": \"Data Engineer\", \"salary\": 111775, \"salary_currency\": \"USD\", \"salary_in_usd\": 111775, \"employee_residence\": \"US\", \"remote_ratio\": \"0%\", \"company_location\": \"US\", \"company_size\": \"M\"}, {\"work_year\": \"2021e\", \"experience_level\": \"MI\", \"employment_type\": \"FT\", \"job_title\": \"Data Engineer\", \"salary\": 93150, \"salary_currency\": \"USD\", \"salary_in_usd\": 93150, \"employee_residence\": \"US\", \"remote_ratio\": \"0%\", \"company_location\": \"US\", \"company_size\": \"M\"}, {\"work_year\": \"2021e\", \"experience_level\": \"SE\", \"employment_type\": \"FT\", \"job_title\": \"Lead Data Engineer\", \"salary\": 160000, \"salary_currency\": \"USD\", \"salary_in_usd\": 160000, \"employee_residence\": \"PR\", \"remote_ratio\": \"50%\", \"company_location\": \"US\", \"company_size\": \"S\"}, {\"work_year\": \"2021e\", \"experience_level\": \"MI\", \"employment_type\": \"FT\", \"job_title\": \"Data Scientist\", \"salary\": 21600, \"salary_currency\": \"EUR\", \"salary_in_usd\": 25747, \"employee_residence\": \"RS\", \"remote_ratio\": \"100%\", \"company_location\": \"DE\", \"company_size\": \"S\"}, {\"work_year\": \"2021e\", \"experience_level\": \"SE\", \"employment_type\": \"FT\", \"job_title\": \"Machine Learning Engineer\", \"salary\": 4900000, \"salary_currency\": \"INR\", \"salary_in_usd\": 66442, \"employee_residence\": \"IN\", \"remote_ratio\": \"0%\", \"company_location\": \"IN\", \"company_size\": \"L\"}, {\"work_year\": \"2021e\", \"experience_level\": \"MI\", \"employment_type\": \"FT\", \"job_title\": \"Data Scientist\", \"salary\": 1250000, \"salary_currency\": \"INR\", \"salary_in_usd\": 16949, \"employee_residence\": \"IN\", \"remote_ratio\": \"100%\", \"company_location\": \"IN\", \"company_size\": \"S\"}, {\"work_year\": \"2021e\", \"experience_level\": \"SE\", \"employment_type\": \"FT\", \"job_title\": \"Data Analyst\", \"salary\": 54000, \"salary_currency\": \"EUR\", \"salary_in_usd\": 64369, \"employee_residence\": \"DE\", \"remote_ratio\": \"50%\", \"company_location\": \"DE\", \"company_size\": \"L\"}, {\"work_year\": \"2020\", \"experience_level\": \"SE\", \"employment_type\": \"FT\", \"job_title\": \"Lead Data Scientist\", \"salary\": 190000, \"salary_currency\": \"USD\", \"salary_in_usd\": 190000, \"employee_residence\": \"US\", \"remote_ratio\": \"100%\", \"company_location\": \"US\", \"company_size\": \"S\"}, {\"work_year\": \"2021e\", \"experience_level\": \"EX\", \"employment_type\": \"FT\", \"job_title\": \"Director of Data Science\", \"salary\": 120000, \"salary_currency\": \"EUR\", \"salary_in_usd\": 143043, \"employee_residence\": \"DE\", \"remote_ratio\": \"0%\", \"company_location\": \"DE\", \"company_size\": \"L\"}, {\"work_year\": \"2021e\", \"experience_level\": \"EN\", \"employment_type\": \"FT\", \"job_title\": \"Big Data Engineer\", \"salary\": 1200000, \"salary_currency\": \"INR\", \"salary_in_usd\": 16271, \"employee_residence\": \"IN\", \"remote_ratio\": \"100%\", \"company_location\": \"IN\", \"company_size\": \"L\"}, {\"work_year\": \"2021e\", \"experience_level\": \"SE\", \"employment_type\": \"FT\", \"job_title\": \"Data Analyst\", \"salary\": 90000, \"salary_currency\": \"CAD\", \"salary_in_usd\": 71968, \"employee_residence\": \"CA\", \"remote_ratio\": \"100%\", \"company_location\": \"CA\", \"company_size\": \"M\"}, {\"work_year\": \"2020\", \"experience_level\": \"MI\", \"employment_type\": \"FT\", \"job_title\": \"Data Scientist\", \"salary\": 11000000, \"salary_currency\": \"HUF\", \"salary_in_usd\": 35735, \"employee_residence\": \"HU\", \"remote_ratio\": \"50%\", \"company_location\": \"HU\", \"company_size\": \"L\"}, {\"work_year\": \"2021e\", \"experience_level\": \"SE\", \"employment_type\": \"FT\", \"job_title\": \"Data Scientist\", \"salary\": 135000, \"salary_currency\": \"USD\", \"salary_in_usd\": 135000, \"employee_residence\": \"US\", \"remote_ratio\": \"0%\", \"company_location\": \"US\", \"company_size\": \"L\"}, {\"work_year\": \"2021e\", \"experience_level\": \"EN\", \"employment_type\": \"FT\", \"job_title\": \"Machine Learning Engineer\", \"salary\": 21000, \"salary_currency\": \"EUR\", \"salary_in_usd\": 25032, \"employee_residence\": \"DE\", \"remote_ratio\": \"50%\", \"company_location\": \"DE\", \"company_size\": \"M\"}, {\"work_year\": \"2021e\", \"experience_level\": \"SE\", \"employment_type\": \"FT\", \"job_title\": \"Data Science Manager\", \"salary\": 4000000, \"salary_currency\": \"INR\", \"salary_in_usd\": 54238, \"employee_residence\": \"IN\", \"remote_ratio\": \"50%\", \"company_location\": \"US\", \"company_size\": \"L\"}, {\"work_year\": \"2021e\", \"experience_level\": \"SE\", \"employment_type\": \"FT\", \"job_title\": \"Machine Learning Engineer\", \"salary\": 1799997, \"salary_currency\": \"INR\", \"salary_in_usd\": 24407, \"employee_residence\": \"IN\", \"remote_ratio\": \"100%\", \"company_location\": \"IN\", \"company_size\": \"L\"}, {\"work_year\": \"2021e\", \"experience_level\": \"EN\", \"employment_type\": \"FT\", \"job_title\": \"BI Data Analyst\", \"salary\": 9272, \"salary_currency\": \"USD\", \"salary_in_usd\": 9272, \"employee_residence\": \"KE\", \"remote_ratio\": \"100%\", \"company_location\": \"KE\", \"company_size\": \"S\"}, {\"work_year\": \"2021e\", \"experience_level\": \"MI\", \"employment_type\": \"FT\", \"job_title\": \"Data Scientist\", \"salary\": 147000, \"salary_currency\": \"USD\", \"salary_in_usd\": 147000, \"employee_residence\": \"US\", \"remote_ratio\": \"50%\", \"company_location\": \"US\", \"company_size\": \"L\"}, {\"work_year\": \"2021e\", \"experience_level\": \"SE\", \"employment_type\": \"FT\", \"job_title\": \"Research Scientist\", \"salary\": 120500, \"salary_currency\": \"CAD\", \"salary_in_usd\": 96357, \"employee_residence\": \"CA\", \"remote_ratio\": \"50%\", \"company_location\": \"CA\", \"company_size\": \"L\"}, {\"work_year\": \"2021e\", \"experience_level\": \"SE\", \"employment_type\": \"FT\", \"job_title\": \"Data Science Manager\", \"salary\": 174000, \"salary_currency\": \"USD\", \"salary_in_usd\": 174000, \"employee_residence\": \"US\", \"remote_ratio\": \"100%\", \"company_location\": \"US\", \"company_size\": \"L\"}, {\"work_year\": \"2020\", \"experience_level\": \"MI\", \"employment_type\": \"FT\", \"job_title\": \"Business Data Analyst\", \"salary\": 135000, \"salary_currency\": \"USD\", \"salary_in_usd\": 135000, \"employee_residence\": \"US\", \"remote_ratio\": \"100%\", \"company_location\": \"US\", \"company_size\": \"L\"}, {\"work_year\": \"2021e\", \"experience_level\": \"EN\", \"employment_type\": \"FT\", \"job_title\": \"Machine Learning Engineer\", \"salary\": 21844, \"salary_currency\": \"USD\", \"salary_in_usd\": 21844, \"employee_residence\": \"CO\", \"remote_ratio\": \"50%\", \"company_location\": \"CO\", \"company_size\": \"M\"}, {\"work_year\": \"2020\", \"experience_level\": \"SE\", \"employment_type\": \"FT\", \"job_title\": \"Lead Data Engineer\", \"salary\": 125000, \"salary_currency\": \"USD\", \"salary_in_usd\": 125000, \"employee_residence\": \"NZ\", \"remote_ratio\": \"50%\", \"company_location\": \"NZ\", \"company_size\": \"S\"}, {\"work_year\": \"2020\", \"experience_level\": \"EN\", \"employment_type\": \"FT\", \"job_title\": \"Data Scientist\", \"salary\": 45000, \"salary_currency\": \"EUR\", \"salary_in_usd\": 51321, \"employee_residence\": \"FR\", \"remote_ratio\": \"0%\", \"company_location\": \"FR\", \"company_size\": \"S\"}, {\"work_year\": \"2020\", \"experience_level\": \"MI\", \"employment_type\": \"FT\", \"job_title\": \"Data Scientist\", \"salary\": 3000000, \"salary_currency\": \"INR\", \"salary_in_usd\": 40481, \"employee_residence\": \"IN\", \"remote_ratio\": \"0%\", \"company_location\": \"IN\", \"company_size\": \"L\"}, {\"work_year\": \"2021e\", \"experience_level\": \"EX\", \"employment_type\": \"FT\", \"job_title\": \"Data Science Consultant\", \"salary\": 59000, \"salary_currency\": \"EUR\", \"salary_in_usd\": 70329, \"employee_residence\": \"FR\", \"remote_ratio\": \"100%\", \"company_location\": \"ES\", \"company_size\": \"S\"}, {\"work_year\": \"2021e\", \"experience_level\": \"SE\", \"employment_type\": \"FT\", \"job_title\": \"Data Analytics Engineer\", \"salary\": 50000, \"salary_currency\": \"USD\", \"salary_in_usd\": 50000, \"employee_residence\": \"VN\", \"remote_ratio\": \"100%\", \"company_location\": \"GB\", \"company_size\": \"M\"}, {\"work_year\": \"2021e\", \"experience_level\": \"MI\", \"employment_type\": \"FT\", \"job_title\": \"Data Engineer\", \"salary\": 4000, \"salary_currency\": \"USD\", \"salary_in_usd\": 4000, \"employee_residence\": \"IR\", \"remote_ratio\": \"100%\", \"company_location\": \"IR\", \"company_size\": \"M\"}, {\"work_year\": \"2020\", \"experience_level\": \"EN\", \"employment_type\": \"FT\", \"job_title\": \"Data Scientist\", \"salary\": 35000, \"salary_currency\": \"EUR\", \"salary_in_usd\": 39916, \"employee_residence\": \"FR\", \"remote_ratio\": \"0%\", \"company_location\": \"FR\", \"company_size\": \"M\"}, {\"work_year\": \"2020\", \"experience_level\": \"MI\", \"employment_type\": \"FT\", \"job_title\": \"Lead Data Analyst\", \"salary\": 87000, \"salary_currency\": \"USD\", \"salary_in_usd\": 87000, \"employee_residence\": \"US\", \"remote_ratio\": \"100%\", \"company_location\": \"US\", \"company_size\": \"L\"}, {\"work_year\": \"2021e\", \"experience_level\": \"MI\", \"employment_type\": \"FT\", \"job_title\": \"Data Engineer\", \"salary\": 22000, \"salary_currency\": \"EUR\", \"salary_in_usd\": 26224, \"employee_residence\": \"RO\", \"remote_ratio\": \"0%\", \"company_location\": \"US\", \"company_size\": \"L\"}, {\"work_year\": \"2021e\", \"experience_level\": \"MI\", \"employment_type\": \"FT\", \"job_title\": \"Data Scientist\", \"salary\": 76760, \"salary_currency\": \"EUR\", \"salary_in_usd\": 91500, \"employee_residence\": \"DE\", \"remote_ratio\": \"50%\", \"company_location\": \"DE\", \"company_size\": \"L\"}, {\"work_year\": \"2021e\", \"experience_level\": \"MI\", \"employment_type\": \"FT\", \"job_title\": \"Big Data Engineer\", \"salary\": 1672000, \"salary_currency\": \"INR\", \"salary_in_usd\": 22671, \"employee_residence\": \"IN\", \"remote_ratio\": \"0%\", \"company_location\": \"IN\", \"company_size\": \"L\"}, {\"work_year\": \"2021e\", \"experience_level\": \"MI\", \"employment_type\": \"FT\", \"job_title\": \"Data Scientist\", \"salary\": 420000, \"salary_currency\": \"INR\", \"salary_in_usd\": 5695, \"employee_residence\": \"IN\", \"remote_ratio\": \"100%\", \"company_location\": \"US\", \"company_size\": \"S\"}, {\"work_year\": \"2021e\", \"experience_level\": \"EN\", \"employment_type\": \"FT\", \"job_title\": \"Machine Learning Engineer\", \"salary\": 81000, \"salary_currency\": \"USD\", \"salary_in_usd\": 81000, \"employee_residence\": \"US\", \"remote_ratio\": \"50%\", \"company_location\": \"US\", \"company_size\": \"S\"}, {\"work_year\": \"2021e\", \"experience_level\": \"MI\", \"employment_type\": \"FT\", \"job_title\": \"Data Scientist\", \"salary\": 30400000, \"salary_currency\": \"CLP\", \"salary_in_usd\": 40798, \"employee_residence\": \"CL\", \"remote_ratio\": \"100%\", \"company_location\": \"CL\", \"company_size\": \"L\"}, {\"work_year\": \"2021e\", \"experience_level\": \"MI\", \"employment_type\": \"FT\", \"job_title\": \"Data Scientist\", \"salary\": 58000, \"salary_currency\": \"MXN\", \"salary_in_usd\": 2876, \"employee_residence\": \"MX\", \"remote_ratio\": \"0%\", \"company_location\": \"MX\", \"company_size\": \"S\"}, {\"work_year\": \"2021e\", \"experience_level\": \"EN\", \"employment_type\": \"FT\", \"job_title\": \"Data Science Consultant\", \"salary\": 90000, \"salary_currency\": \"USD\", \"salary_in_usd\": 90000, \"employee_residence\": \"US\", \"remote_ratio\": \"100%\", \"company_location\": \"US\", \"company_size\": \"S\"}, {\"work_year\": \"2021e\", \"experience_level\": \"MI\", \"employment_type\": \"FT\", \"job_title\": \"Data Scientist\", \"salary\": 52000, \"salary_currency\": \"EUR\", \"salary_in_usd\": 61985, \"employee_residence\": \"DE\", \"remote_ratio\": \"50%\", \"company_location\": \"AT\", \"company_size\": \"M\"}, {\"work_year\": \"2021e\", \"experience_level\": \"SE\", \"employment_type\": \"FT\", \"job_title\": \"Machine Learning Infrastructure Engineer\", \"salary\": 195000, \"salary_currency\": \"USD\", \"salary_in_usd\": 195000, \"employee_residence\": \"US\", \"remote_ratio\": \"100%\", \"company_location\": \"US\", \"company_size\": \"M\"}, {\"work_year\": \"2021e\", \"experience_level\": \"MI\", \"employment_type\": \"FT\", \"job_title\": \"Data Scientist\", \"salary\": 32000, \"salary_currency\": \"EUR\", \"salary_in_usd\": 38144, \"employee_residence\": \"ES\", \"remote_ratio\": \"100%\", \"company_location\": \"ES\", \"company_size\": \"L\"}, {\"work_year\": \"2020\", \"experience_level\": \"MI\", \"employment_type\": \"FT\", \"job_title\": \"Data Analyst\", \"salary\": 85000, \"salary_currency\": \"USD\", \"salary_in_usd\": 85000, \"employee_residence\": \"US\", \"remote_ratio\": \"100%\", \"company_location\": \"US\", \"company_size\": \"L\"}, {\"work_year\": \"2021e\", \"experience_level\": \"EX\", \"employment_type\": \"CT\", \"job_title\": \"Principal Data Scientist\", \"salary\": 416000, \"salary_currency\": \"USD\", \"salary_in_usd\": 416000, \"employee_residence\": \"US\", \"remote_ratio\": \"100%\", \"company_location\": \"US\", \"company_size\": \"S\"}, {\"work_year\": \"2021e\", \"experience_level\": \"SE\", \"employment_type\": \"FT\", \"job_title\": \"Machine Learning Scientist\", \"salary\": 225000, \"salary_currency\": \"USD\", \"salary_in_usd\": 225000, \"employee_residence\": \"US\", \"remote_ratio\": \"100%\", \"company_location\": \"CA\", \"company_size\": \"L\"}, {\"work_year\": \"2021e\", \"experience_level\": \"MI\", \"employment_type\": \"FT\", \"job_title\": \"Data Scientist\", \"salary\": 40900, \"salary_currency\": \"GBP\", \"salary_in_usd\": 56578, \"employee_residence\": \"GB\", \"remote_ratio\": \"50%\", \"company_location\": \"GB\", \"company_size\": \"L\"}, {\"work_year\": \"2021e\", \"experience_level\": \"MI\", \"employment_type\": \"FT\", \"job_title\": \"Data Scientist\", \"salary\": 2500000, \"salary_currency\": \"INR\", \"salary_in_usd\": 33899, \"employee_residence\": \"IN\", \"remote_ratio\": \"0%\", \"company_location\": \"IN\", \"company_size\": \"M\"}, {\"work_year\": \"2021e\", \"experience_level\": \"MI\", \"employment_type\": \"FT\", \"job_title\": \"Data Scientist\", \"salary\": 85000, \"salary_currency\": \"GBP\", \"salary_in_usd\": 117583, \"employee_residence\": \"GB\", \"remote_ratio\": \"50%\", \"company_location\": \"GB\", \"company_size\": \"L\"}, {\"work_year\": \"2021e\", \"experience_level\": \"MI\", \"employment_type\": \"FT\", \"job_title\": \"Machine Learning Engineer\", \"salary\": 180000, \"salary_currency\": \"PLN\", \"salary_in_usd\": 47129, \"employee_residence\": \"PL\", \"remote_ratio\": \"100%\", \"company_location\": \"PL\", \"company_size\": \"L\"}, {\"work_year\": \"2020\", \"experience_level\": \"MI\", \"employment_type\": \"FT\", \"job_title\": \"Data Analyst\", \"salary\": 8000, \"salary_currency\": \"USD\", \"salary_in_usd\": 8000, \"employee_residence\": \"PK\", \"remote_ratio\": \"50%\", \"company_location\": \"PK\", \"company_size\": \"L\"}, {\"work_year\": \"2020\", \"experience_level\": \"EN\", \"employment_type\": \"FT\", \"job_title\": \"Data Engineer\", \"salary\": 4450000, \"salary_currency\": \"JPY\", \"salary_in_usd\": 41689, \"employee_residence\": \"JP\", \"remote_ratio\": \"100%\", \"company_location\": \"JP\", \"company_size\": \"S\"}, {\"work_year\": \"2020\", \"experience_level\": \"SE\", \"employment_type\": \"FT\", \"job_title\": \"Big Data Engineer\", \"salary\": 100000, \"salary_currency\": \"EUR\", \"salary_in_usd\": 114047, \"employee_residence\": \"PL\", \"remote_ratio\": \"100%\", \"company_location\": \"GB\", \"company_size\": \"S\"}, {\"work_year\": \"2021e\", \"experience_level\": \"MI\", \"employment_type\": \"FT\", \"job_title\": \"Machine Learning Engineer\", \"salary\": 75000, \"salary_currency\": \"EUR\", \"salary_in_usd\": 89402, \"employee_residence\": \"BE\", \"remote_ratio\": \"100%\", \"company_location\": \"BE\", \"company_size\": \"M\"}, {\"work_year\": \"2020\", \"experience_level\": \"EN\", \"employment_type\": \"FT\", \"job_title\": \"Data Science Consultant\", \"salary\": 423000, \"salary_currency\": \"INR\", \"salary_in_usd\": 5707, \"employee_residence\": \"IN\", \"remote_ratio\": \"50%\", \"company_location\": \"IN\", \"company_size\": \"M\"}, {\"work_year\": \"2020\", \"experience_level\": \"MI\", \"employment_type\": \"FT\", \"job_title\": \"Lead Data Engineer\", \"salary\": 56000, \"salary_currency\": \"USD\", \"salary_in_usd\": 56000, \"employee_residence\": \"PT\", \"remote_ratio\": \"100%\", \"company_location\": \"US\", \"company_size\": \"M\"}, {\"work_year\": \"2021e\", \"experience_level\": \"EN\", \"employment_type\": \"PT\", \"job_title\": \"Computer Vision Engineer\", \"salary\": 180000, \"salary_currency\": \"DKK\", \"salary_in_usd\": 28850, \"employee_residence\": \"DK\", \"remote_ratio\": \"50%\", \"company_location\": \"DK\", \"company_size\": \"S\"}, {\"work_year\": \"2021e\", \"experience_level\": \"MI\", \"employment_type\": \"FT\", \"job_title\": \"Data Scientist\", \"salary\": 75000, \"salary_currency\": \"EUR\", \"salary_in_usd\": 89402, \"employee_residence\": \"DE\", \"remote_ratio\": \"50%\", \"company_location\": \"DE\", \"company_size\": \"L\"}, {\"work_year\": \"2020\", \"experience_level\": \"MI\", \"employment_type\": \"FT\", \"job_title\": \"Machine Learning Engineer\", \"salary\": 299000, \"salary_currency\": \"CNY\", \"salary_in_usd\": 43331, \"employee_residence\": \"CN\", \"remote_ratio\": \"0%\", \"company_location\": \"CN\", \"company_size\": \"M\"}, {\"work_year\": \"2020\", \"experience_level\": \"MI\", \"employment_type\": \"FT\", \"job_title\": \"Product Data Analyst\", \"salary\": 450000, \"salary_currency\": \"INR\", \"salary_in_usd\": 6072, \"employee_residence\": \"IN\", \"remote_ratio\": \"100%\", \"company_location\": \"IN\", \"company_size\": \"L\"}, {\"work_year\": \"2020\", \"experience_level\": \"SE\", \"employment_type\": \"FT\", \"job_title\": \"Data Engineer\", \"salary\": 42000, \"salary_currency\": \"EUR\", \"salary_in_usd\": 47899, \"employee_residence\": \"GR\", \"remote_ratio\": \"50%\", \"company_location\": \"GR\", \"company_size\": \"L\"}, {\"work_year\": \"2020\", \"experience_level\": \"MI\", \"employment_type\": \"FT\", \"job_title\": \"BI Data Analyst\", \"salary\": 98000, \"salary_currency\": \"USD\", \"salary_in_usd\": 98000, \"employee_residence\": \"US\", \"remote_ratio\": \"0%\", \"company_location\": \"US\", \"company_size\": \"M\"}, {\"work_year\": \"2021e\", \"experience_level\": \"MI\", \"employment_type\": \"FT\", \"job_title\": \"Data Engineer\", \"salary\": 48000, \"salary_currency\": \"GBP\", \"salary_in_usd\": 66400, \"employee_residence\": \"HK\", \"remote_ratio\": \"50%\", \"company_location\": \"GB\", \"company_size\": \"S\"}, {\"work_year\": \"2021e\", \"experience_level\": \"MI\", \"employment_type\": \"FT\", \"job_title\": \"Research Scientist\", \"salary\": 48000, \"salary_currency\": \"EUR\", \"salary_in_usd\": 57217, \"employee_residence\": \"FR\", \"remote_ratio\": \"50%\", \"company_location\": \"FR\", \"company_size\": \"S\"}, {\"work_year\": \"2021e\", \"experience_level\": \"MI\", \"employment_type\": \"FT\", \"job_title\": \"Machine Learning Engineer\", \"salary\": 21000, \"salary_currency\": \"EUR\", \"salary_in_usd\": 25032, \"employee_residence\": \"SI\", \"remote_ratio\": \"50%\", \"company_location\": \"SI\", \"company_size\": \"L\"}, {\"work_year\": \"2021e\", \"experience_level\": \"SE\", \"employment_type\": \"FT\", \"job_title\": \"Data Analytics Manager\", \"salary\": 120000, \"salary_currency\": \"USD\", \"salary_in_usd\": 120000, \"employee_residence\": \"US\", \"remote_ratio\": \"0%\", \"company_location\": \"US\", \"company_size\": \"L\"}, {\"work_year\": \"2021e\", \"experience_level\": \"MI\", \"employment_type\": \"FL\", \"job_title\": \"Data Engineer\", \"salary\": 20000, \"salary_currency\": \"USD\", \"salary_in_usd\": 20000, \"employee_residence\": \"IT\", \"remote_ratio\": \"0%\", \"company_location\": \"US\", \"company_size\": \"L\"}, {\"work_year\": \"2020\", \"experience_level\": \"EX\", \"employment_type\": \"FT\", \"job_title\": \"Director of Data Science\", \"salary\": 325000, \"salary_currency\": \"USD\", \"salary_in_usd\": 325000, \"employee_residence\": \"US\", \"remote_ratio\": \"100%\", \"company_location\": \"US\", \"company_size\": \"L\"}, {\"work_year\": \"2021e\", \"experience_level\": \"SE\", \"employment_type\": \"FT\", \"job_title\": \"Machine Learning Engineer\", \"salary\": 200000, \"salary_currency\": \"USD\", \"salary_in_usd\": 200000, \"employee_residence\": \"US\", \"remote_ratio\": \"100%\", \"company_location\": \"US\", \"company_size\": \"L\"}, {\"work_year\": \"2020\", \"experience_level\": \"EN\", \"employment_type\": \"FT\", \"job_title\": \"AI Scientist\", \"salary\": 300000, \"salary_currency\": \"DKK\", \"salary_in_usd\": 45896, \"employee_residence\": \"DK\", \"remote_ratio\": \"50%\", \"company_location\": \"DK\", \"company_size\": \"S\"}, {\"work_year\": \"2021e\", \"experience_level\": \"MI\", \"employment_type\": \"FT\", \"job_title\": \"Data Scientist\", \"salary\": 160000, \"salary_currency\": \"USD\", \"salary_in_usd\": 160000, \"employee_residence\": \"US\", \"remote_ratio\": \"100%\", \"company_location\": \"US\", \"company_size\": \"L\"}, {\"work_year\": \"2021e\", \"experience_level\": \"SE\", \"employment_type\": \"FT\", \"job_title\": \"Research Scientist\", \"salary\": 50000, \"salary_currency\": \"USD\", \"salary_in_usd\": 50000, \"employee_residence\": \"FR\", \"remote_ratio\": \"100%\", \"company_location\": \"US\", \"company_size\": \"S\"}, {\"work_year\": \"2021e\", \"experience_level\": \"MI\", \"employment_type\": \"FT\", \"job_title\": \"Data Science Engineer\", \"salary\": 34000, \"salary_currency\": \"EUR\", \"salary_in_usd\": 40529, \"employee_residence\": \"GR\", \"remote_ratio\": \"100%\", \"company_location\": \"GR\", \"company_size\": \"M\"}, {\"work_year\": \"2021e\", \"experience_level\": \"EX\", \"employment_type\": \"FT\", \"job_title\": \"Principal Data Engineer\", \"salary\": 600000, \"salary_currency\": \"USD\", \"salary_in_usd\": 600000, \"employee_residence\": \"US\", \"remote_ratio\": \"100%\", \"company_location\": \"US\", \"company_size\": \"L\"}, {\"work_year\": \"2021e\", \"experience_level\": \"MI\", \"employment_type\": \"FT\", \"job_title\": \"Data Scientist\", \"salary\": 69600, \"salary_currency\": \"BRL\", \"salary_in_usd\": 13000, \"employee_residence\": \"BR\", \"remote_ratio\": \"0%\", \"company_location\": \"BR\", \"company_size\": \"S\"}, {\"work_year\": \"2021e\", \"experience_level\": \"SE\", \"employment_type\": \"FT\", \"job_title\": \"Data Engineer\", \"salary\": 165000, \"salary_currency\": \"USD\", \"salary_in_usd\": 165000, \"employee_residence\": \"US\", \"remote_ratio\": \"0%\", \"company_location\": \"US\", \"company_size\": \"M\"}, {\"work_year\": \"2021e\", \"experience_level\": \"EN\", \"employment_type\": \"FT\", \"job_title\": \"Big Data Engineer\", \"salary\": 435000, \"salary_currency\": \"INR\", \"salary_in_usd\": 5898, \"employee_residence\": \"IN\", \"remote_ratio\": \"0%\", \"company_location\": \"CH\", \"company_size\": \"L\"}, {\"work_year\": \"2020\", \"experience_level\": \"MI\", \"employment_type\": \"FT\", \"job_title\": \"Data Scientist\", \"salary\": 37000, \"salary_currency\": \"EUR\", \"salary_in_usd\": 42197, \"employee_residence\": \"FR\", \"remote_ratio\": \"50%\", \"company_location\": \"FR\", \"company_size\": \"S\"}, {\"work_year\": \"2021e\", \"experience_level\": \"SE\", \"employment_type\": \"FT\", \"job_title\": \"Principal Data Engineer\", \"salary\": 185000, \"salary_currency\": \"USD\", \"salary_in_usd\": 185000, \"employee_residence\": \"US\", \"remote_ratio\": \"100%\", \"company_location\": \"US\", \"company_size\": \"L\"}, {\"work_year\": \"2020\", \"experience_level\": \"EN\", \"employment_type\": \"FT\", \"job_title\": \"Data Scientist\", \"salary\": 55000, \"salary_currency\": \"EUR\", \"salary_in_usd\": 62726, \"employee_residence\": \"DE\", \"remote_ratio\": \"50%\", \"company_location\": \"DE\", \"company_size\": \"S\"}, {\"work_year\": \"2021e\", \"experience_level\": \"MI\", \"employment_type\": \"FT\", \"job_title\": \"Data Scientist\", \"salary\": 76760, \"salary_currency\": \"EUR\", \"salary_in_usd\": 91500, \"employee_residence\": \"DE\", \"remote_ratio\": \"50%\", \"company_location\": \"DE\", \"company_size\": \"L\"}, {\"work_year\": \"2020\", \"experience_level\": \"EN\", \"employment_type\": \"PT\", \"job_title\": \"Data Scientist\", \"salary\": 19000, \"salary_currency\": \"EUR\", \"salary_in_usd\": 21669, \"employee_residence\": \"IT\", \"remote_ratio\": \"50%\", \"company_location\": \"IT\", \"company_size\": \"S\"}, {\"work_year\": \"2020\", \"experience_level\": \"MI\", \"employment_type\": \"FT\", \"job_title\": \"Data Engineer\", \"salary\": 110000, \"salary_currency\": \"USD\", \"salary_in_usd\": 110000, \"employee_residence\": \"US\", \"remote_ratio\": \"100%\", \"company_location\": \"US\", \"company_size\": \"L\"}, {\"work_year\": \"2021e\", \"experience_level\": \"SE\", \"employment_type\": \"FT\", \"job_title\": \"Data Analytics Manager\", \"salary\": 140000, \"salary_currency\": \"USD\", \"salary_in_usd\": 140000, \"employee_residence\": \"US\", \"remote_ratio\": \"100%\", \"company_location\": \"US\", \"company_size\": \"L\"}, {\"work_year\": \"2020\", \"experience_level\": \"SE\", \"employment_type\": \"FT\", \"job_title\": \"Data Scientist\", \"salary\": 120000, \"salary_currency\": \"USD\", \"salary_in_usd\": 120000, \"employee_residence\": \"US\", \"remote_ratio\": \"50%\", \"company_location\": \"US\", \"company_size\": \"L\"}, {\"work_year\": \"2021e\", \"experience_level\": \"SE\", \"employment_type\": \"FT\", \"job_title\": \"Data Scientist\", \"salary\": 110000, \"salary_currency\": \"CAD\", \"salary_in_usd\": 87961, \"employee_residence\": \"CA\", \"remote_ratio\": \"100%\", \"company_location\": \"CA\", \"company_size\": \"S\"}, {\"work_year\": \"2021e\", \"experience_level\": \"SE\", \"employment_type\": \"FT\", \"job_title\": \"Finance Data Analyst\", \"salary\": 45000, \"salary_currency\": \"GBP\", \"salary_in_usd\": 62250, \"employee_residence\": \"GB\", \"remote_ratio\": \"50%\", \"company_location\": \"GB\", \"company_size\": \"L\"}, {\"work_year\": \"2021e\", \"experience_level\": \"MI\", \"employment_type\": \"FL\", \"job_title\": \"Machine Learning Scientist\", \"salary\": 12000, \"salary_currency\": \"USD\", \"salary_in_usd\": 12000, \"employee_residence\": \"PK\", \"remote_ratio\": \"50%\", \"company_location\": \"PK\", \"company_size\": \"M\"}, {\"work_year\": \"2021e\", \"experience_level\": \"SE\", \"employment_type\": \"FT\", \"job_title\": \"Data Engineer\", \"salary\": 65000, \"salary_currency\": \"EUR\", \"salary_in_usd\": 77481, \"employee_residence\": \"RO\", \"remote_ratio\": \"50%\", \"company_location\": \"GB\", \"company_size\": \"S\"}, {\"work_year\": \"2021e\", \"experience_level\": \"MI\", \"employment_type\": \"FT\", \"job_title\": \"Machine Learning Engineer\", \"salary\": 74000, \"salary_currency\": \"USD\", \"salary_in_usd\": 74000, \"employee_residence\": \"JP\", \"remote_ratio\": \"50%\", \"company_location\": \"JP\", \"company_size\": \"S\"}, {\"work_year\": \"2021e\", \"experience_level\": \"SE\", \"employment_type\": \"FT\", \"job_title\": \"Data Science Manager\", \"salary\": 152000, \"salary_currency\": \"USD\", \"salary_in_usd\": 152000, \"employee_residence\": \"US\", \"remote_ratio\": \"100%\", \"company_location\": \"FR\", \"company_size\": \"L\"}, {\"work_year\": \"2021e\", \"experience_level\": \"MI\", \"employment_type\": \"FT\", \"job_title\": \"Big Data Engineer\", \"salary\": 18000, \"salary_currency\": \"USD\", \"salary_in_usd\": 18000, \"employee_residence\": \"MD\", \"remote_ratio\": \"0%\", \"company_location\": \"MD\", \"company_size\": \"S\"}, {\"work_year\": \"2020\", \"experience_level\": \"SE\", \"employment_type\": \"FL\", \"job_title\": \"Computer Vision Engineer\", \"salary\": 60000, \"salary_currency\": \"USD\", \"salary_in_usd\": 60000, \"employee_residence\": \"RU\", \"remote_ratio\": \"100%\", \"company_location\": \"US\", \"company_size\": \"S\"}, {\"work_year\": \"2021e\", \"experience_level\": \"MI\", \"employment_type\": \"FT\", \"job_title\": \"Data Scientist\", \"salary\": 130000, \"salary_currency\": \"USD\", \"salary_in_usd\": 130000, \"employee_residence\": \"US\", \"remote_ratio\": \"50%\", \"company_location\": \"US\", \"company_size\": \"L\"}, {\"work_year\": \"2021e\", \"experience_level\": \"SE\", \"employment_type\": \"FT\", \"job_title\": \"Computer Vision Engineer\", \"salary\": 102000, \"salary_currency\": \"BRL\", \"salary_in_usd\": 19052, \"employee_residence\": \"BR\", \"remote_ratio\": \"0%\", \"company_location\": \"BR\", \"company_size\": \"M\"}, {\"work_year\": \"2021e\", \"experience_level\": \"EN\", \"employment_type\": \"FT\", \"job_title\": \"Business Data Analyst\", \"salary\": 50000, \"salary_currency\": \"EUR\", \"salary_in_usd\": 59601, \"employee_residence\": \"LU\", \"remote_ratio\": \"100%\", \"company_location\": \"LU\", \"company_size\": \"L\"}, {\"work_year\": \"2021e\", \"experience_level\": \"SE\", \"employment_type\": \"FT\", \"job_title\": \"Principal Data Scientist\", \"salary\": 147000, \"salary_currency\": \"EUR\", \"salary_in_usd\": 175228, \"employee_residence\": \"DE\", \"remote_ratio\": \"100%\", \"company_location\": \"DE\", \"company_size\": \"M\"}, {\"work_year\": \"2020\", \"experience_level\": \"SE\", \"employment_type\": \"FT\", \"job_title\": \"Principal Data Scientist\", \"salary\": 130000, \"salary_currency\": \"EUR\", \"salary_in_usd\": 148261, \"employee_residence\": \"DE\", \"remote_ratio\": \"100%\", \"company_location\": \"DE\", \"company_size\": \"M\"}, {\"work_year\": \"2020\", \"experience_level\": \"MI\", \"employment_type\": \"FT\", \"job_title\": \"Data Scientist\", \"salary\": 34000, \"salary_currency\": \"EUR\", \"salary_in_usd\": 38776, \"employee_residence\": \"ES\", \"remote_ratio\": \"100%\", \"company_location\": \"ES\", \"company_size\": \"M\"}, {\"work_year\": \"2021e\", \"experience_level\": \"MI\", \"employment_type\": \"FT\", \"job_title\": \"Data Scientist\", \"salary\": 39600, \"salary_currency\": \"EUR\", \"salary_in_usd\": 47204, \"employee_residence\": \"ES\", \"remote_ratio\": \"100%\", \"company_location\": \"ES\", \"company_size\": \"M\"}, {\"work_year\": \"2021e\", \"experience_level\": \"EN\", \"employment_type\": \"FT\", \"job_title\": \"Data Scientist\", \"salary\": 4000, \"salary_currency\": \"USD\", \"salary_in_usd\": 4000, \"employee_residence\": \"VN\", \"remote_ratio\": \"0%\", \"company_location\": \"VN\", \"company_size\": \"M\"}, {\"work_year\": \"2021e\", \"experience_level\": \"EN\", \"employment_type\": \"FT\", \"job_title\": \"AI Scientist\", \"salary\": 1335000, \"salary_currency\": \"INR\", \"salary_in_usd\": 18102, \"employee_residence\": \"IN\", \"remote_ratio\": \"100%\", \"company_location\": \"AS\", \"company_size\": \"S\"}, {\"work_year\": \"2020\", \"experience_level\": \"SE\", \"employment_type\": \"FT\", \"job_title\": \"Data Scientist\", \"salary\": 80000, \"salary_currency\": \"EUR\", \"salary_in_usd\": 91237, \"employee_residence\": \"AT\", \"remote_ratio\": \"0%\", \"company_location\": \"AT\", \"company_size\": \"S\"}, {\"work_year\": \"2020\", \"experience_level\": \"MI\", \"employment_type\": \"FT\", \"job_title\": \"Data Scientist\", \"salary\": 55000, \"salary_currency\": \"EUR\", \"salary_in_usd\": 62726, \"employee_residence\": \"FR\", \"remote_ratio\": \"50%\", \"company_location\": \"LU\", \"company_size\": \"S\"}, {\"work_year\": \"2021e\", \"experience_level\": \"MI\", \"employment_type\": \"FT\", \"job_title\": \"Data Scientist\", \"salary\": 115000, \"salary_currency\": \"USD\", \"salary_in_usd\": 115000, \"employee_residence\": \"US\", \"remote_ratio\": \"50%\", \"company_location\": \"US\", \"company_size\": \"L\"}, {\"work_year\": \"2021e\", \"experience_level\": \"SE\", \"employment_type\": \"FT\", \"job_title\": \"Principal Data Scientist\", \"salary\": 235000, \"salary_currency\": \"USD\", \"salary_in_usd\": 235000, \"employee_residence\": \"US\", \"remote_ratio\": \"100%\", \"company_location\": \"US\", \"company_size\": \"L\"}, {\"work_year\": \"2021e\", \"experience_level\": \"MI\", \"employment_type\": \"FT\", \"job_title\": \"Lead Data Analyst\", \"salary\": 1450000, \"salary_currency\": \"INR\", \"salary_in_usd\": 19661, \"employee_residence\": \"IN\", \"remote_ratio\": \"100%\", \"company_location\": \"IN\", \"company_size\": \"L\"}, {\"work_year\": \"2021e\", \"experience_level\": \"EN\", \"employment_type\": \"PT\", \"job_title\": \"AI Scientist\", \"salary\": 12000, \"salary_currency\": \"USD\", \"salary_in_usd\": 12000, \"employee_residence\": \"BR\", \"remote_ratio\": \"100%\", \"company_location\": \"US\", \"company_size\": \"S\"}, {\"work_year\": \"2021e\", \"experience_level\": \"MI\", \"employment_type\": \"FT\", \"job_title\": \"Data Analyst\", \"salary\": 75000, \"salary_currency\": \"USD\", \"salary_in_usd\": 75000, \"employee_residence\": \"US\", \"remote_ratio\": \"0%\", \"company_location\": \"US\", \"company_size\": \"L\"}, {\"work_year\": \"2021e\", \"experience_level\": \"MI\", \"employment_type\": \"FT\", \"job_title\": \"Data Analyst\", \"salary\": 62000, \"salary_currency\": \"USD\", \"salary_in_usd\": 62000, \"employee_residence\": \"US\", \"remote_ratio\": \"0%\", \"company_location\": \"US\", \"company_size\": \"L\"}, {\"work_year\": \"2021e\", \"experience_level\": \"MI\", \"employment_type\": \"FT\", \"job_title\": \"Data Scientist\", \"salary\": 73000, \"salary_currency\": \"USD\", \"salary_in_usd\": 73000, \"employee_residence\": \"US\", \"remote_ratio\": \"0%\", \"company_location\": \"US\", \"company_size\": \"L\"}, {\"work_year\": \"2021e\", \"experience_level\": \"MI\", \"employment_type\": \"FT\", \"job_title\": \"Data Engineer\", \"salary\": 38400, \"salary_currency\": \"EUR\", \"salary_in_usd\": 45773, \"employee_residence\": \"NL\", \"remote_ratio\": \"100%\", \"company_location\": \"NL\", \"company_size\": \"L\"}, {\"work_year\": \"2020\", \"experience_level\": \"SE\", \"employment_type\": \"FT\", \"job_title\": \"Data Science Manager\", \"salary\": 190200, \"salary_currency\": \"USD\", \"salary_in_usd\": 190200, \"employee_residence\": \"US\", \"remote_ratio\": \"100%\", \"company_location\": \"US\", \"company_size\": \"M\"}, {\"work_year\": \"2020\", \"experience_level\": \"MI\", \"employment_type\": \"FT\", \"job_title\": \"Data Scientist\", \"salary\": 118000, \"salary_currency\": \"USD\", \"salary_in_usd\": 118000, \"employee_residence\": \"US\", \"remote_ratio\": \"100%\", \"company_location\": \"US\", \"company_size\": \"M\"}, {\"work_year\": \"2020\", \"experience_level\": \"MI\", \"employment_type\": \"FT\", \"job_title\": \"Data Scientist\", \"salary\": 138350, \"salary_currency\": \"USD\", \"salary_in_usd\": 138350, \"employee_residence\": \"US\", \"remote_ratio\": \"100%\", \"company_location\": \"US\", \"company_size\": \"M\"}, {\"work_year\": \"2020\", \"experience_level\": \"MI\", \"employment_type\": \"FT\", \"job_title\": \"Data Engineer\", \"salary\": 130800, \"salary_currency\": \"USD\", \"salary_in_usd\": 130800, \"employee_residence\": \"ES\", \"remote_ratio\": \"100%\", \"company_location\": \"US\", \"company_size\": \"M\"}, {\"work_year\": \"2020\", \"experience_level\": \"SE\", \"employment_type\": \"FT\", \"job_title\": \"Machine Learning Engineer\", \"salary\": 40000, \"salary_currency\": \"EUR\", \"salary_in_usd\": 45618, \"employee_residence\": \"HR\", \"remote_ratio\": \"100%\", \"company_location\": \"HR\", \"company_size\": \"S\"}, {\"work_year\": \"2021e\", \"experience_level\": \"SE\", \"employment_type\": \"FT\", \"job_title\": \"Director of Data Science\", \"salary\": 168000, \"salary_currency\": \"USD\", \"salary_in_usd\": 168000, \"employee_residence\": \"JP\", \"remote_ratio\": \"0%\", \"company_location\": \"JP\", \"company_size\": \"S\"}, {\"work_year\": \"2021e\", \"experience_level\": \"MI\", \"employment_type\": \"FT\", \"job_title\": \"Data Scientist\", \"salary\": 160000, \"salary_currency\": \"SGD\", \"salary_in_usd\": 119353, \"employee_residence\": \"SG\", \"remote_ratio\": \"100%\", \"company_location\": \"IL\", \"company_size\": \"M\"}, {\"work_year\": \"2021e\", \"experience_level\": \"MI\", \"employment_type\": \"FT\", \"job_title\": \"Applied Machine Learning Scientist\", \"salary\": 423000, \"salary_currency\": \"USD\", \"salary_in_usd\": 423000, \"employee_residence\": \"US\", \"remote_ratio\": \"50%\", \"company_location\": \"US\", \"company_size\": \"L\"}, {\"work_year\": \"2021e\", \"experience_level\": \"MI\", \"employment_type\": \"FT\", \"job_title\": \"Data Engineer\", \"salary\": 24000, \"salary_currency\": \"EUR\", \"salary_in_usd\": 28608, \"employee_residence\": \"MT\", \"remote_ratio\": \"50%\", \"company_location\": \"MT\", \"company_size\": \"L\"}, {\"work_year\": \"2021e\", \"experience_level\": \"SE\", \"employment_type\": \"FT\", \"job_title\": \"Data Specialist\", \"salary\": 165000, \"salary_currency\": \"USD\", \"salary_in_usd\": 165000, \"employee_residence\": \"US\", \"remote_ratio\": \"100%\", \"company_location\": \"US\", \"company_size\": \"L\"}, {\"work_year\": \"2020\", \"experience_level\": \"SE\", \"employment_type\": \"FT\", \"job_title\": \"Data Scientist\", \"salary\": 412000, \"salary_currency\": \"USD\", \"salary_in_usd\": 412000, \"employee_residence\": \"US\", \"remote_ratio\": \"100%\", \"company_location\": \"US\", \"company_size\": \"L\"}, {\"work_year\": \"2021e\", \"experience_level\": \"MI\", \"employment_type\": \"FT\", \"job_title\": \"Principal Data Scientist\", \"salary\": 151000, \"salary_currency\": \"USD\", \"salary_in_usd\": 151000, \"employee_residence\": \"US\", \"remote_ratio\": \"100%\", \"company_location\": \"US\", \"company_size\": \"L\"}, {\"work_year\": \"2020\", \"experience_level\": \"EN\", \"employment_type\": \"FT\", \"job_title\": \"Data Scientist\", \"salary\": 105000, \"salary_currency\": \"USD\", \"salary_in_usd\": 105000, \"employee_residence\": \"US\", \"remote_ratio\": \"100%\", \"company_location\": \"US\", \"company_size\": \"S\"}, {\"work_year\": \"2020\", \"experience_level\": \"EN\", \"employment_type\": \"CT\", \"job_title\": \"Business Data Analyst\", \"salary\": 100000, \"salary_currency\": \"USD\", \"salary_in_usd\": 100000, \"employee_residence\": \"US\", \"remote_ratio\": \"100%\", \"company_location\": \"US\", \"company_size\": \"L\"}, {\"work_year\": \"2021e\", \"experience_level\": \"SE\", \"employment_type\": \"FT\", \"job_title\": \"Data Science Manager\", \"salary\": 7000000, \"salary_currency\": \"INR\", \"salary_in_usd\": 94917, \"employee_residence\": \"IN\", \"remote_ratio\": \"50%\", \"company_location\": \"IN\", \"company_size\": \"L\"}]}}, {\"mode\": \"vega-lite\"});\n",
       "</script>"
      ],
      "text/plain": [
       "alt.VConcatChart(...)"
      ]
     },
     "execution_count": 15,
     "metadata": {},
     "output_type": "execute_result"
    }
   ],
   "source": [
    "alt.themes.enable(\"dark\")\n",
    "\n",
    "brush = alt.selection_interval()\n",
    "click = alt.selection_multi(fields=['remote_ratio'], on='mouseover')\n",
    "\n",
    "points = (alt.Chart(df, title=\"Salary per Country\").mark_circle().encode(\n",
    "    x=alt.X('company_location:N', title=\"Country\"),\n",
    "    y=alt.Y('salary_in_usd:Q', title=\"Salary in USD\"),\n",
    "    color=alt.condition(brush, alt.Color(\"remote_ratio:N\", title=\"Remote Ratio\", sort=[\"0%\", \"50%\", \"100%\"]), alt.value(\"lightgray\"),),\n",
    "    opacity=alt.condition(click, alt.value(1.0), alt.value(0.1)),\n",
    "    tooltip='job_title')\n",
    ".add_selection(brush))\n",
    "\n",
    "\n",
    "bars = ((alt.Chart(df).mark_bar().encode(\n",
    "    x='count()',\n",
    "    y=alt.Y('remote_ratio', title=\"Remote Ratio\", sort=[\"0%\", \"50%\", \"100%\"]),\n",
    "    color='remote_ratio',\n",
    "    opacity=alt.condition(click, alt.value(0.9), alt.value(0.2))))\n",
    ".add_selection(brush))\n",
    "\n",
    "(points & bars).add_selection(click)\n"
   ]
  },
  {
   "cell_type": "code",
   "execution_count": null,
   "id": "31df92d6-90f9-442c-b955-4c48ffd175de",
   "metadata": {},
   "outputs": [],
   "source": []
  },
  {
   "cell_type": "code",
   "execution_count": null,
   "id": "d2d89941-6c08-4ff6-9a31-e6fb37ce4954",
   "metadata": {},
   "outputs": [],
   "source": []
  }
 ],
 "metadata": {
  "kernelspec": {
   "display_name": "Python [conda env:532]",
   "language": "python",
   "name": "conda-env-532-py"
  },
  "language_info": {
   "codemirror_mode": {
    "name": "ipython",
    "version": 3
   },
   "file_extension": ".py",
   "mimetype": "text/x-python",
   "name": "python",
   "nbconvert_exporter": "python",
   "pygments_lexer": "ipython3",
   "version": "3.10.2"
  }
 },
 "nbformat": 4,
 "nbformat_minor": 5
}
